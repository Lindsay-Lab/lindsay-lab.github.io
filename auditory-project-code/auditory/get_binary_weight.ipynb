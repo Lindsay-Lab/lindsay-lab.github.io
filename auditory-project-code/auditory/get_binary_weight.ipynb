{
 "cells": [
  {
   "cell_type": "code",
   "execution_count": 3,
   "metadata": {},
   "outputs": [],
   "source": [
    "import numpy as np\n",
    "import torch\n",
    "import torch.nn as nn\n",
    "from torch import hub\n",
    "from script import vggish_input, vggish_params\n",
    "import os"
   ]
  },
  {
   "cell_type": "code",
   "execution_count": null,
   "metadata": {},
   "outputs": [],
   "source": [
    "import torch\n",
    "model = torch.hub.load('harritaylor/torchvggish', 'vggish')\n",
    "model.postprocess = False\n",
    "model.eval()"
   ]
  },
  {
   "cell_type": "code",
   "execution_count": null,
   "metadata": {},
   "outputs": [],
   "source": [
    "def list_sort(x : str):\n",
    "    if '.' in x:\n",
    "\n",
    "        x = x.rpartition('_')\n",
    "\n",
    "        x = x[0][2:4]\n",
    "    else:\n",
    "        x = 0\n",
    "    return int(x)"
   ]
  },
  {
   "cell_type": "code",
   "execution_count": null,
   "metadata": {},
   "outputs": [],
   "source": [
    "device = torch.device('cpu')"
   ]
  },
  {
   "cell_type": "code",
   "execution_count": null,
   "metadata": {},
   "outputs": [],
   "source": [
    "train_data = torch.tensor([])\n",
    "ss_path = '/scratch/bs4283/auditory_data/data_20sample/training_data_20/'\n",
    "fileList = os.listdir('/scratch/bs4283/auditory_data/data_20sample/training_data_20/')\n",
    "fileList.sort(key=list_sort)\n",
    "for filename in fileList:\n",
    "    filepath = os.path.join(ss_path,filename)\n",
    "    with torch.no_grad():  \n",
    "        re = model(filepath).to(device)\n",
    "    train_data = torch.cat((train_data,re))"
   ]
  },
  {
   "cell_type": "code",
   "execution_count": null,
   "metadata": {},
   "outputs": [],
   "source": [
    "torch.save(train_data,'/scratch/bs4283/auditory_data/data_20sample/binary_training_data.pt')"
   ]
  },
  {
   "cell_type": "code",
   "execution_count": 4,
   "metadata": {},
   "outputs": [],
   "source": [
    "device = torch.device('cuda')"
   ]
  },
  {
   "cell_type": "code",
   "execution_count": 5,
   "metadata": {},
   "outputs": [],
   "source": [
    "train_data = torch.load('/scratch/bs4283/auditory_data/data_20sample/binary_training_data.pt')"
   ]
  },
  {
   "cell_type": "code",
   "execution_count": 6,
   "metadata": {},
   "outputs": [],
   "source": [
    "class LogisticRegression(nn.Module):\n",
    "    def __init__(self):\n",
    "        super(LogisticRegression,self).__init__()\n",
    "        self.linear = nn.Linear(128,1)\n",
    "        self.sigmoid = nn.Sigmoid()\n",
    "    def forward(self,x):\n",
    "        return self.sigmoid(self.linear(x))"
   ]
  },
  {
   "cell_type": "code",
   "execution_count": 7,
   "metadata": {},
   "outputs": [],
   "source": [
    "def make_train_data(data1,data2):\n",
    "    data1 = data1.numpy()\n",
    "    data2 = data2.numpy()\n",
    "    sub_diff = np.setdiff1d(data2,data1,assume_unique=True)\n",
    "    \n",
    "    r2 = torch.randperm(3800)[0:200].numpy()\n",
    "    ss = torch.from_numpy(data2[sub_diff[r2]])\n",
    "    return ss"
   ]
  },
  {
   "cell_type": "code",
   "execution_count": 8,
   "metadata": {},
   "outputs": [],
   "source": [
    "weight_binar = torch.ones([20,128]).to(device)\n",
    "bias_binar = torch.ones([20]).to(device)\n",
    "loss_vel_final = torch.tensor([]).to(device)\n",
    "\n",
    "\n",
    "\n",
    "Iter = np.zeros([20,])\n",
    "L_tr = np.zeros([20,])\n",
    "L_va = np.zeros([20,])"
   ]
  },
  {
   "cell_type": "code",
   "execution_count": null,
   "metadata": {},
   "outputs": [],
   "source": []
  },
  {
   "cell_type": "code",
   "execution_count": null,
   "metadata": {},
   "outputs": [],
   "source": []
  },
  {
   "cell_type": "code",
   "execution_count": 104,
   "metadata": {},
   "outputs": [],
   "source": [
    "hh = 19\n",
    "\n",
    "loss_vel = np.zeros([9000,1])\n",
    "loss_tra = np.zeros([9000,1])\n",
    "\n",
    "weight_bin = torch.tensor([]).to(device)\n",
    "bias_bin = torch.tensor([]).to(device)\n",
    "\n",
    "train_x1 = train_data[hh*200:(hh+1)*200,:]\n",
    "sub = torch.arange(4000)\n",
    "sub_cat = torch.arange(hh*200,(hh+1)*200,1)\n",
    "sub_dif = make_train_data(sub_cat,sub)        \n",
    "train_x2 = train_data[sub_dif,:]\n",
    "train_x = torch.cat((train_x1[:160,:], train_x2[:160,:]), 0)\n",
    "val_x  = torch.cat((train_x1[160:,:], train_x2[160:,:]), 0)\n",
    "y1 = torch.ones(200)\n",
    "y2 = torch.zeros(200)\n",
    "\n",
    "train_y = torch.cat((y1[:160],y2[:160]),0).to(device)\n",
    "val_y = torch.cat((y1[160:],y2[160:]),0).to(device)\n",
    "\n",
    "\n",
    "\n",
    "model_binary = LogisticRegression().to(device)\n",
    "loss_fn = nn.BCELoss()\n",
    "lr = 0.01 \n",
    "optimizer = torch.optim.Adam(model_binary.parameters(), lr=lr) \n",
    "\n",
    "for iteration in range(9000):   \n",
    "#    loss_pre  = loss_val\n",
    "    y_pred = model_binary(train_x.to(device)).to(device)             \n",
    "    loss = loss_fn(y_pred.squeeze(), train_y)   \n",
    "    loss.requires_grad_(True)\n",
    "    optimizer.zero_grad()\n",
    "    loss.backward()              \n",
    "    optimizer.step()   \n",
    "\n",
    "    y_val_pre = model_binary(val_x.to(device)).to(device)\n",
    "    loss_val = loss_fn(y_val_pre.squeeze(), val_y)\n",
    "    \n",
    "    loss_vel[iteration] = loss_val.cpu().detach().numpy()\n",
    "    loss_tra[iteration] = loss.cpu().detach().numpy()\n",
    "    \n",
    "    ww = model_binary.linear.weight.to(device)\n",
    "    bi = model_binary.linear.bias.to(device)\n",
    "    weight_bin = torch.cat((weight_bin.to(device),ww.to(device)))\n",
    "    bias_bin = torch.cat([bias_bin.to(device),bi.to(device)])"
   ]
  },
  {
   "cell_type": "code",
   "execution_count": 105,
   "metadata": {},
   "outputs": [
    {
     "data": {
      "text/plain": [
       "[<matplotlib.lines.Line2D at 0x14897bf2b190>]"
      ]
     },
     "execution_count": 105,
     "metadata": {},
     "output_type": "execute_result"
    },
    {
     "data": {
      "image/png": "[encoded data removed]",
      "text/plain": [
       "<Figure size 640x480 with 1 Axes>"
      ]
     },
     "metadata": {},
     "output_type": "display_data"
    }
   ],
   "source": [
    "import  matplotlib.pyplot as plt\n",
    "x= np.arange(9000)\n",
    "plt.plot(x,loss_vel)\n",
    "plt.plot(x,loss_tra)"
   ]
  },
  {
   "cell_type": "code",
   "execution_count": 106,
   "metadata": {},
   "outputs": [],
   "source": [
    "Iter[hh] = np.argmin(loss_vel)\n",
    "L_tr[hh] = loss_tra[np.argmin(loss_vel)]\n",
    "L_va[hh] = np.min(loss_vel)"
   ]
  },
  {
   "cell_type": "code",
   "execution_count": 107,
   "metadata": {},
   "outputs": [],
   "source": [
    "weight_binar[hh,:] = weight_bin[int(Iter[hh]),:]\n",
    "bias_binar[hh] = bias_bin[int(Iter[hh])]"
   ]
  },
  {
   "cell_type": "code",
   "execution_count": 108,
   "metadata": {},
   "outputs": [
    {
     "data": {
      "text/plain": [
       "tensor([-1.5591, -0.7614, -5.7669,  1.0741, -0.6664, -3.4533, -1.2845,  0.6084,\n",
       "        -0.3741, -1.9548, -1.3026,  0.3959, -0.9816, -0.7246, -1.3451, -1.2844,\n",
       "        -2.7221, -0.6502, -1.0135, -1.1834], device='cuda:0',\n",
       "       grad_fn=<CopySlices>)"
      ]
     },
     "execution_count": 108,
     "metadata": {},
     "output_type": "execute_result"
    }
   ],
   "source": [
    "bias_binar"
   ]
  },
  {
   "cell_type": "code",
   "execution_count": 109,
   "metadata": {},
   "outputs": [],
   "source": [
    "torch.save(weight_binar,'/scratch/bs4283/auditory_data/data_20sample/binary_weight3.pt')\n",
    "torch.save(bias_binar,'/scratch/bs4283/auditory_data/data_20sample/binary_bias3.pt')"
   ]
  },
  {
   "cell_type": "code",
   "execution_count": 110,
   "metadata": {},
   "outputs": [],
   "source": [
    "np.save('/scratch/bs4283/auditory_data/data_20sample/iteration.npy',Iter)\n",
    "np.save('/scratch/bs4283/auditory_data/data_20sample/loss_train.npy',L_tr)\n",
    "np.save('/scratch/bs4283/auditory_data/data_20sample/loss_val.npy',L_va)"
   ]
  }
 ],
 "metadata": {
  "kernelspec": {
   "display_name": "my_env",
   "language": "python",
   "name": "my_env"
  },
  "language_info": {
   "codemirror_mode": {
    "name": "ipython",
    "version": 3
   },
   "file_extension": ".py",
   "mimetype": "text/x-python",
   "name": "python",
   "nbconvert_exporter": "python",
   "pygments_lexer": "ipython3",
   "version": "3.9.12"
  }
 },
 "nbformat": 4,
 "nbformat_minor": 4
}
