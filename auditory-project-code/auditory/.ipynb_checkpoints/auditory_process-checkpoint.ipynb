{
 "cells": [
  {
   "cell_type": "code",
   "execution_count": 1,
   "metadata": {},
   "outputs": [],
   "source": [
    "import numpy as np\n",
    "import torch\n",
    "import torch.nn as nn\n",
    "from torch import hub\n",
    "from script import vggish_input, vggish_params\n",
    "import os"
   ]
  },
  {
   "cell_type": "code",
   "execution_count": 2,
   "metadata": {},
   "outputs": [],
   "source": [
    "binary_weight = '/scratch/bs4283/auditory_data/data_20sample/binary_weight3.pt'\n",
    "binary_bias = '/scratch/bs4283/auditory_data/data_20sample/binary_bias3.pt'\n",
    "tunning_value_folder = '/scratch/bs4283/auditory_data/data_20sample/tunnning_value/'"
   ]
  },
  {
   "cell_type": "code",
   "execution_count": 3,
   "metadata": {},
   "outputs": [],
   "source": [
    "device = torch.device('cuda')"
   ]
  },
  {
   "cell_type": "code",
   "execution_count": 3,
   "metadata": {},
   "outputs": [],
   "source": [
    "def list_sort_tunning(x : str):\n",
    "    if '.' in x:\n",
    "        # 将文件名字用_进行分割\n",
    "        x = x.rpartition('.')\n",
    "        # 将x用.进行分割，最后拿到数字\n",
    "        x = x[0][-1]\n",
    "    else:\n",
    "        x = 0\n",
    "    return int(x)"
   ]
  },
  {
   "cell_type": "code",
   "execution_count": 4,
   "metadata": {},
   "outputs": [],
   "source": [
    "attnmats=[]\n",
    "fileList = os.listdir('/scratch/bs4283/auditory_data/data_20sample/tunnning_value')\n",
    "ss_path = '/scratch/bs4283/auditory_data/data_20sample/tunnning_value'\n",
    "fileList.sort(key=list_sort_tunning)\n",
    "\n"
   ]
  },
  {
   "cell_type": "code",
   "execution_count": 6,
   "metadata": {},
   "outputs": [],
   "source": [
    "filename = fileList[0]\n",
    "filepath = os.path.join(ss_path,filename)\n",
    "value = torch.load(filepath)"
   ]
  },
  {
   "cell_type": "code",
   "execution_count": 15,
   "metadata": {},
   "outputs": [],
   "source": [
    "import matplotlib.pyplot as plt"
   ]
  },
  {
   "cell_type": "code",
   "execution_count": 12,
   "metadata": {},
   "outputs": [
    {
     "data": {
      "text/plain": [
       "(20, 64)"
      ]
     },
     "execution_count": 12,
     "metadata": {},
     "output_type": "execute_result"
    }
   ],
   "source": [
    "value.cpu().numpy().shape"
   ]
  },
  {
   "cell_type": "code",
   "execution_count": null,
   "metadata": {},
   "outputs": [],
   "source": [
    "v_qul = []\n",
    "for ss in range(13):\n",
    "    fv = b[ss]\n",
    "    max_v = np.amax(np.abs(fv),axis=0)\n",
    "    v_qul.append(max_v)"
   ]
  },
  {
   "cell_type": "code",
   "execution_count": 13,
   "metadata": {},
   "outputs": [],
   "source": [
    "v_qul = []\n",
    "for layer in range(6):\n",
    "    filename = fileList[layer]\n",
    "    filepath = os.path.join(ss_path,filename)\n",
    "    value = torch.load(filepath)\n",
    "    value = value.cpu().numpy()\n",
    "    max_v = np.amax(np.abs(value),axis=0)\n",
    "    v_qul.append(max_v)"
   ]
  },
  {
   "cell_type": "code",
   "execution_count": 16,
   "metadata": {},
   "outputs": [
    {
     "data": {
      "text/plain": [
       "{'whiskers': [<matplotlib.lines.Line2D at 0x152e71011820>,\n",
       "  <matplotlib.lines.Line2D at 0x152e71011ac0>,\n",
       "  <matplotlib.lines.Line2D at 0x152e70fb1af0>,\n",
       "  <matplotlib.lines.Line2D at 0x152e70fb1d90>,\n",
       "  <matplotlib.lines.Line2D at 0x152e70fc1d90>,\n",
       "  <matplotlib.lines.Line2D at 0x152e70fd0070>,\n",
       "  <matplotlib.lines.Line2D at 0x152e70f5c070>,\n",
       "  <matplotlib.lines.Line2D at 0x152e70f5c310>,\n",
       "  <matplotlib.lines.Line2D at 0x152e70f69310>,\n",
       "  <matplotlib.lines.Line2D at 0x152e70f695b0>,\n",
       "  <matplotlib.lines.Line2D at 0x152e70f7b5b0>,\n",
       "  <matplotlib.lines.Line2D at 0x152e70f7b850>],\n",
       " 'caps': [<matplotlib.lines.Line2D at 0x152e71011d60>,\n",
       "  <matplotlib.lines.Line2D at 0x152e70fb1040>,\n",
       "  <matplotlib.lines.Line2D at 0x152e70fc1070>,\n",
       "  <matplotlib.lines.Line2D at 0x152e70fc1310>,\n",
       "  <matplotlib.lines.Line2D at 0x152e70fd0310>,\n",
       "  <matplotlib.lines.Line2D at 0x152e70fd05b0>,\n",
       "  <matplotlib.lines.Line2D at 0x152e70f5c5b0>,\n",
       "  <matplotlib.lines.Line2D at 0x152e70f5c850>,\n",
       "  <matplotlib.lines.Line2D at 0x152e70f69850>,\n",
       "  <matplotlib.lines.Line2D at 0x152e70f69af0>,\n",
       "  <matplotlib.lines.Line2D at 0x152e70f7baf0>,\n",
       "  <matplotlib.lines.Line2D at 0x152e70f7bd90>],\n",
       " 'boxes': [<matplotlib.lines.Line2D at 0x152e71011580>,\n",
       "  <matplotlib.lines.Line2D at 0x152e70fb1850>,\n",
       "  <matplotlib.lines.Line2D at 0x152e70fc1af0>,\n",
       "  <matplotlib.lines.Line2D at 0x152e70fd0d90>,\n",
       "  <matplotlib.lines.Line2D at 0x152e70f69070>,\n",
       "  <matplotlib.lines.Line2D at 0x152e70f7b310>],\n",
       " 'medians': [<matplotlib.lines.Line2D at 0x152e70fb12e0>,\n",
       "  <matplotlib.lines.Line2D at 0x152e70fc15b0>,\n",
       "  <matplotlib.lines.Line2D at 0x152e70fd0850>,\n",
       "  <matplotlib.lines.Line2D at 0x152e70f5caf0>,\n",
       "  <matplotlib.lines.Line2D at 0x152e70f69d90>,\n",
       "  <matplotlib.lines.Line2D at 0x152e70f88070>],\n",
       " 'fliers': [<matplotlib.lines.Line2D at 0x152e70fb1580>,\n",
       "  <matplotlib.lines.Line2D at 0x152e70fc1850>,\n",
       "  <matplotlib.lines.Line2D at 0x152e70fd0af0>,\n",
       "  <matplotlib.lines.Line2D at 0x152e70f5cd90>,\n",
       "  <matplotlib.lines.Line2D at 0x152e70f7b070>,\n",
       "  <matplotlib.lines.Line2D at 0x152e70f88310>],\n",
       " 'means': []}"
      ]
     },
     "execution_count": 16,
     "metadata": {},
     "output_type": "execute_result"
    },
    {
     "data": {
      "image/png": "[encoded data removed]",
      "text/plain": [
       "<Figure size 640x480 with 1 Axes>"
      ]
     },
     "metadata": {},
     "output_type": "display_data"
    }
   ],
   "source": [
    "plt.boxplot(v_qul)"
   ]
  },
  {
   "cell_type": "code",
   "execution_count": 5,
   "metadata": {},
   "outputs": [],
   "source": [
    "def make_amats(speaker,layer,sevec):\n",
    "    attnmats=[]\n",
    "    fileList = os.listdir('/scratch/bs4283/auditory_data/data_20sample/tunnning_value')\n",
    "    ss_path = '/scratch/bs4283/auditory_data/data_20sample/tunnning_value'\n",
    "    fileList.sort(key=list_sort_tunning)\n",
    "    filename = fileList[layer]\n",
    "    filepath = os.path.join(ss_path,filename)\n",
    "    value = torch.load(filepath)\n",
    "    \n",
    "    for ii in range(6):\n",
    "        if ii == layer : \n",
    "            k=value[speaker,:]/(torch.max(torch.abs(value),0).values)\n",
    "            k=torch.unsqueeze(torch.unsqueeze(k,1),1)\n",
    "            k[k == torch.inf] = 0 \n",
    "            k[k == -torch.inf] = 0 \n",
    "            k = torch.from_numpy(np.nan_to_num(k.cpu().numpy())).to(device)\n",
    "            \n",
    "            if ii == 0:\n",
    "                amat = torch.ones([64, 96, 64]).to(device) + torch.tile(k,[1,96,64]).to(device) *sevec\n",
    "                attnmats.append(amat)\n",
    "            elif ii == 1:\n",
    "                amat = torch.ones([128, 48, 32]).to(device)  + torch.tile(k,[1,48,32]).to(device) *sevec\n",
    "                attnmats.append(amat)\n",
    "            elif ii == 2:\n",
    "                amat = torch.ones([256, 24, 16]).to(device)  + torch.tile(k,[1,24,16]).to(device) *sevec\n",
    "                attnmats.append(amat)\n",
    "            elif ii == 3:\n",
    "                amat = torch.ones([256, 24, 16]).to(device)  + torch.tile(k,[1,24,16]).to(device) *sevec\n",
    "                attnmats.append(amat)\n",
    "            elif ii == 4:\n",
    "                amat = torch.ones([512, 12, 8]).to(device)  + torch.tile(k,[1,12,8]).to(device) *sevec\n",
    "                attnmats.append(amat)\n",
    "            elif ii == 5:\n",
    "                amat = torch.ones([512, 12, 8]).to(device)  + torch.tile(k,[1,12,8]).to(device) *sevec\n",
    "                attnmats.append(amat)\n",
    "            \n",
    "            \n",
    "        else:\n",
    "            if ii == 0:\n",
    "                amat = torch.ones([64, 96, 64]).to(device) \n",
    "                attnmats.append(amat)\n",
    "            elif ii == 1:\n",
    "                amat = torch.ones([128, 48, 32]).to(device) \n",
    "                attnmats.append(amat)\n",
    "            elif ii == 2:\n",
    "                amat = torch.ones([256, 24, 16]).to(device) \n",
    "                attnmats.append(amat)\n",
    "            elif ii == 3:\n",
    "                amat = torch.ones([256, 24, 16]).to(device) \n",
    "                attnmats.append(amat)\n",
    "            elif ii == 4:\n",
    "                amat = torch.ones([512, 12, 8]).to(device) \n",
    "                attnmats.append(amat)\n",
    "            elif ii == 5:\n",
    "                amat = torch.ones([512, 12, 8]).to(device) \n",
    "                attnmats.append(amat)\n",
    "    return attnmats"
   ]
  },
  {
   "cell_type": "code",
   "execution_count": 6,
   "metadata": {},
   "outputs": [],
   "source": [
    "class VGG16ish(nn.Module):\n",
    "    def __init__(self,binary_weight,binary_bias,tunning):\n",
    "        super(VGG16ish, self).__init__()\n",
    "        import torch\n",
    "        import torch.nn as nn\n",
    "        self.tunning = tunning\n",
    "        self.binary_weight = binary_weight.to(device)\n",
    "        self.binary_bias = binary_bias.to(device)\n",
    "        base_model = torch.hub.load('harritaylor/torchvggish', 'vggish')\n",
    "        model_list = list(base_model.children())\n",
    "        self.model_layer0 = model_list[0][0:2]\n",
    "        self.model_layer1 = model_list[0][2:5]\n",
    "        self.model_layer2 = model_list[0][5:8]\n",
    "        self.model_layer3 = model_list[0][8:10]\n",
    "        self.model_layer4 = model_list[0][10:13]\n",
    "        self.model_layer5 = model_list[0][13:15]\n",
    "        self.model_layer6 = model_list[0][15] \n",
    "        self.linear1 = model_list[1]\n",
    "        self.linear2 = nn.Linear(128,1)\n",
    "        self.linear2.weight = nn.Parameter(self.binary_weight)\n",
    "        self.linear2.bias = nn.Parameter(self.binary_bias)\n",
    "        self.sigmoid = nn.Sigmoid()\n",
    "        \n",
    "        \n",
    "        \n",
    "    def forward(self, x):\n",
    "        out = self.model_layer0(x)\n",
    "        out = torch.mul(out,self.tunning[0])\n",
    "        out = self.model_layer1(out)\n",
    "        out = torch.mul(out,self.tunning[1])\n",
    "        out = self.model_layer2(out)\n",
    "        out = torch.mul(out,self.tunning[2])\n",
    "        out = self.model_layer3(out)\n",
    "        out = torch.mul(out,self.tunning[3])\n",
    "        out = self.model_layer4(out)\n",
    "        out = torch.mul(out,self.tunning[4])\n",
    "        out = self.model_layer5(out)\n",
    "        out = torch.mul(out,self.tunning[5])\n",
    "        out = self.model_layer6(out)\n",
    "        out = torch.transpose(out, 1, 3)\n",
    "        out = torch.transpose(out, 1, 2)\n",
    "        out = out.contiguous().view(x.size(0), -1)\n",
    "        \n",
    "        out = self.linear1(out)\n",
    "        out = self.linear2(out)\n",
    "        out = self.sigmoid(out)\n",
    "        \n",
    "        \n",
    "        return out"
   ]
  },
  {
   "cell_type": "markdown",
   "metadata": {},
   "source": [
    "Prepare data"
   ]
  },
  {
   "cell_type": "code",
   "execution_count": 7,
   "metadata": {},
   "outputs": [],
   "source": [
    "from script import vggish_input"
   ]
  },
  {
   "cell_type": "code",
   "execution_count": null,
   "metadata": {},
   "outputs": [],
   "source": [
    "def list_sort_data(x : str):\n",
    "    if '.' in x:\n",
    "        # 将文件名字用_进行分割\n",
    "        x = x.rpartition('.')\n",
    "        # 将x用.进行分割，最后拿到数字\n",
    "        if x[0][1] == '-':      \n",
    "            x = x[0][0]\n",
    "        else:\n",
    "            x=x[0][0:2]\n",
    "    else:\n",
    "        x = 0\n",
    "    return int(x)"
   ]
  },
  {
   "cell_type": "code",
   "execution_count": 8,
   "metadata": {},
   "outputs": [],
   "source": [
    "# cat = 2\n",
    "#layer = 5 \n",
    "astrgs=np.arange(0,1.,.5)\n",
    "data_num = 75\n",
    "data_folder = '/scratch/bs4283/auditory_data/data_20sample/test_voice_20'\n"
   ]
  },
  {
   "cell_type": "code",
   "execution_count": null,
   "metadata": {},
   "outputs": [],
   "source": [
    "cat = 0\n",
    "fileList_data = os.listdir('/scratch/bs4283/auditory_data/data_20sample/combine_test_20')\n",
    "fileList_data.sort(key=list_sort_data)\n",
    "sub = torch.arange(9000)\n",
    "sub = sub.numpy()\n",
    "sub_cat = torch.arange(cat*150,(cat+1)*150,1)\n",
    "sub_cat = sub_cat.numpy()\n",
    "sub_diff = np.setdiff1d(sub,sub_cat)\n",
    "r1 = torch.randperm(150)\n",
    "r2 = torch.randperm(8850)\n",
    "data_poi = np.array(fileList_data)[sub_cat[r1.numpy()]]\n",
    "data_neg = np.array(fileList_data)[sub_diff[r2.numpy()]]\n",
    "poi_data = torch.tensor([]).to(device)\n",
    "neg_data = torch.tensor([]).to(device)"
   ]
  },
  {
   "cell_type": "code",
   "execution_count": null,
   "metadata": {},
   "outputs": [],
   "source": [
    "for kk in range(data_num):\n",
    "    poi_path = os.path.join(data_folder,data_poi[kk])\n",
    "    p = vggish_input.wavfile_to_examples(poi_path).to(device)\n",
    "    poi_data = torch.cat([poi_data,p])\n",
    "\n",
    "\n",
    "orde = -1\n",
    "while neg_data.size(dim=0) < 75:\n",
    "    orde = orde + 1 \n",
    "    filename = data_neg[orde].rpartition('.')\n",
    "    if int(filename[0][3:5]) == cat+1:\n",
    "           continue\n",
    "    neg_path = os.path.join(data_folder,data_neg[orde])\n",
    "    n = vggish_input.wavfile_to_examples(neg_path).to(device)\n",
    "    neg_data = torch.cat([neg_data,n])"
   ]
  },
  {
   "cell_type": "code",
   "execution_count": null,
   "metadata": {},
   "outputs": [],
   "source": [
    "w = torch.load(binary_weight)\n",
    "bin_b = torch.load(binary_bias)[cat]\n",
    "bin_w = w[cat,:]\n",
    "bin_w = torch.unsqueeze(bin_w,0)"
   ]
  },
  {
   "cell_type": "code",
   "execution_count": null,
   "metadata": {},
   "outputs": [],
   "source": [
    "pr = np.ones([2,6])\n",
    "nr = np.ones([2,6])\n",
    "for jj in range(6):\n",
    "    at = -1\n",
    "    for ast in astrgs:\n",
    "        at = at+1\n",
    "        t = make_amats(cat,jj,ast)\n",
    "        model_v = VGG16ish(binary_weight = bin_w,binary_bias = bin_b ,tunning = t)            \n",
    "        model_v.eval()\n",
    "        p_result = model_v(poi_data)\n",
    "        n_result  = model_v(neg_data)\n",
    "        p_rate = torch.sum(p_result>0.5).cpu().numpy()/75\n",
    "        n_rate = torch.sum(n_result<0.5).cpu().numpy()/75\n",
    "        pr[at,jj] = p_rate\n",
    "        nr[at,jj] = n_rate"
   ]
  },
  {
   "cell_type": "code",
   "execution_count": null,
   "metadata": {},
   "outputs": [],
   "source": []
  },
  {
   "cell_type": "code",
   "execution_count": null,
   "metadata": {},
   "outputs": [],
   "source": []
  },
  {
   "cell_type": "code",
   "execution_count": null,
   "metadata": {},
   "outputs": [],
   "source": [
    "str(sub_list[0].numpy())"
   ]
  },
  {
   "cell_type": "code",
   "execution_count": null,
   "metadata": {},
   "outputs": [],
   "source": [
    "sub_list = torch.tensor([1,2,3,4,5,6,8,10,11,12,13,28,36,43,47,52,56,57,58,59])-1\n",
    "cat_s = -1 \n",
    "for cat in sub_list:\n",
    "    cat_s = cat_s + 1 \n",
    "    fileList_data = os.listdir('/scratch/bs4283/auditory_data/data_20sample/combine_test_20')\n",
    "    fileList_data.sort(key=list_sort_data)\n",
    "    sub = torch.arange(3000)\n",
    "    sub = sub.numpy()\n",
    "    sub_cat = torch.arange(cat_s*150,(cat_s+1)*150,1)\n",
    "    sub_cat = sub_cat.numpy()\n",
    "    sub_diff = np.setdiff1d(sub,sub_cat)\n",
    "    r1 = torch.randperm(150)\n",
    "    r2 = torch.randperm(2850)\n",
    "    data_poi = np.array(fileList_data)[sub_cat[r1.numpy()]]\n",
    "    data_neg = np.array(fileList_data)[sub_diff[r2.numpy()]]\n",
    "    poi_data = torch.tensor([]).to(device)\n",
    "    neg_data = torch.tensor([]).to(device)\n",
    "    \n",
    "    for kk in range(data_num):\n",
    "        poi_path = os.path.join(data_folder,data_poi[kk])\n",
    "        p = vggish_input.wavfile_to_examples(poi_path).to(device)\n",
    "        poi_data = torch.cat([poi_data,p])\n",
    "\n",
    "\n",
    "    orde = -1\n",
    "    while neg_data.size(dim=0) < 75:\n",
    "        orde = orde + 1 \n",
    "        filename = data_neg[orde].rpartition('.')\n",
    "        if int(filename[0][3:5]) == cat+1:\n",
    "               continue\n",
    "        neg_path = os.path.join(data_folder,data_neg[orde])\n",
    "        n = vggish_input.wavfile_to_examples(neg_path).to(device)\n",
    "        neg_data = torch.cat([neg_data,n])\n",
    "        \n",
    "        \n",
    "    w = torch.load(binary_weight)\n",
    "    bin_b = torch.load(binary_bias)[cat_s]\n",
    "    bin_w = w[cat_s,:]\n",
    "    bin_w = torch.unsqueeze(bin_w,0)\n",
    "    \n",
    "    pr = np.ones([2,6])\n",
    "    nr = np.ones([2,6])\n",
    "    for jj in range(6):\n",
    "        at = -1\n",
    "        for ast in astrgs:\n",
    "            at = at+1\n",
    "            t = make_amats(cat_s,jj,ast)\n",
    "            model_v = VGG16ish(binary_weight = bin_w,binary_bias = bin_b ,tunning = t)            \n",
    "            model_v.eval()\n",
    "            p_result = model_v(poi_data)\n",
    "            n_result  = model_v(neg_data)\n",
    "            p_rate = torch.sum(p_result>0.5).cpu().numpy()/75\n",
    "            n_rate = torch.sum(n_result<0.5).cpu().numpy()/75\n",
    "            pr[at,jj] = p_rate\n",
    "            nr[at,jj] = n_rate\n",
    "    np.save('/scratch/bs4283/auditory_data/data_20sample/result2/cat'+ str(cat.numpy()) + '_poi.npy',pr)\n",
    "    np.save('/scratch/bs4283/auditory_data/data_20sample/result2/cat'+ str(cat.numpy()) + '_neg.npy',nr)            "
   ]
  },
  {
   "cell_type": "code",
   "execution_count": null,
   "metadata": {},
   "outputs": [],
   "source": []
  },
  {
   "cell_type": "markdown",
   "metadata": {},
   "source": [
    "Prepare data for raw test data"
   ]
  },
  {
   "cell_type": "code",
   "execution_count": 9,
   "metadata": {},
   "outputs": [],
   "source": [
    "def list_sort_data(x : str):\n",
    "    if '.' in x:\n",
    "        # 将文件名字用_进行分割\n",
    "        x = x.rpartition('.')\n",
    "        # 将x用.进行分割，最后拿到数字\n",
    "        if x[0][1] == '-':      \n",
    "            x = x[0][0]\n",
    "        else:\n",
    "            x=x[0][2:4]\n",
    "    else:\n",
    "        x = 0\n",
    "    return int(x)"
   ]
  },
  {
   "cell_type": "code",
   "execution_count": 11,
   "metadata": {},
   "outputs": [
    {
     "name": "stderr",
     "output_type": "stream",
     "text": [
      "Using cache found in /home/bs4283/.cache/torch/hub/harritaylor_torchvggish_master\n",
      "Using cache found in /home/bs4283/.cache/torch/hub/harritaylor_torchvggish_master\n",
      "Using cache found in /home/bs4283/.cache/torch/hub/harritaylor_torchvggish_master\n",
      "Using cache found in /home/bs4283/.cache/torch/hub/harritaylor_torchvggish_master\n",
      "Using cache found in /home/bs4283/.cache/torch/hub/harritaylor_torchvggish_master\n",
      "Using cache found in /home/bs4283/.cache/torch/hub/harritaylor_torchvggish_master\n",
      "Using cache found in /home/bs4283/.cache/torch/hub/harritaylor_torchvggish_master\n",
      "Using cache found in /home/bs4283/.cache/torch/hub/harritaylor_torchvggish_master\n",
      "Using cache found in /home/bs4283/.cache/torch/hub/harritaylor_torchvggish_master\n",
      "Using cache found in /home/bs4283/.cache/torch/hub/harritaylor_torchvggish_master\n",
      "Using cache found in /home/bs4283/.cache/torch/hub/harritaylor_torchvggish_master\n",
      "Using cache found in /home/bs4283/.cache/torch/hub/harritaylor_torchvggish_master\n",
      "Using cache found in /home/bs4283/.cache/torch/hub/harritaylor_torchvggish_master\n",
      "Using cache found in /home/bs4283/.cache/torch/hub/harritaylor_torchvggish_master\n",
      "Using cache found in /home/bs4283/.cache/torch/hub/harritaylor_torchvggish_master\n",
      "Using cache found in /home/bs4283/.cache/torch/hub/harritaylor_torchvggish_master\n",
      "Using cache found in /home/bs4283/.cache/torch/hub/harritaylor_torchvggish_master\n",
      "Using cache found in /home/bs4283/.cache/torch/hub/harritaylor_torchvggish_master\n",
      "Using cache found in /home/bs4283/.cache/torch/hub/harritaylor_torchvggish_master\n",
      "Using cache found in /home/bs4283/.cache/torch/hub/harritaylor_torchvggish_master\n",
      "Using cache found in /home/bs4283/.cache/torch/hub/harritaylor_torchvggish_master\n",
      "Using cache found in /home/bs4283/.cache/torch/hub/harritaylor_torchvggish_master\n",
      "Using cache found in /home/bs4283/.cache/torch/hub/harritaylor_torchvggish_master\n",
      "Using cache found in /home/bs4283/.cache/torch/hub/harritaylor_torchvggish_master\n",
      "Using cache found in /home/bs4283/.cache/torch/hub/harritaylor_torchvggish_master\n",
      "Using cache found in /home/bs4283/.cache/torch/hub/harritaylor_torchvggish_master\n",
      "Using cache found in /home/bs4283/.cache/torch/hub/harritaylor_torchvggish_master\n",
      "Using cache found in /home/bs4283/.cache/torch/hub/harritaylor_torchvggish_master\n",
      "Using cache found in /home/bs4283/.cache/torch/hub/harritaylor_torchvggish_master\n",
      "Using cache found in /home/bs4283/.cache/torch/hub/harritaylor_torchvggish_master\n",
      "Using cache found in /home/bs4283/.cache/torch/hub/harritaylor_torchvggish_master\n",
      "Using cache found in /home/bs4283/.cache/torch/hub/harritaylor_torchvggish_master\n",
      "Using cache found in /home/bs4283/.cache/torch/hub/harritaylor_torchvggish_master\n",
      "Using cache found in /home/bs4283/.cache/torch/hub/harritaylor_torchvggish_master\n",
      "Using cache found in /home/bs4283/.cache/torch/hub/harritaylor_torchvggish_master\n",
      "Using cache found in /home/bs4283/.cache/torch/hub/harritaylor_torchvggish_master\n",
      "Using cache found in /home/bs4283/.cache/torch/hub/harritaylor_torchvggish_master\n",
      "Using cache found in /home/bs4283/.cache/torch/hub/harritaylor_torchvggish_master\n",
      "Using cache found in /home/bs4283/.cache/torch/hub/harritaylor_torchvggish_master\n",
      "Using cache found in /home/bs4283/.cache/torch/hub/harritaylor_torchvggish_master\n",
      "Using cache found in /home/bs4283/.cache/torch/hub/harritaylor_torchvggish_master\n",
      "Using cache found in /home/bs4283/.cache/torch/hub/harritaylor_torchvggish_master\n",
      "Using cache found in /home/bs4283/.cache/torch/hub/harritaylor_torchvggish_master\n",
      "Using cache found in /home/bs4283/.cache/torch/hub/harritaylor_torchvggish_master\n",
      "Using cache found in /home/bs4283/.cache/torch/hub/harritaylor_torchvggish_master\n",
      "Using cache found in /home/bs4283/.cache/torch/hub/harritaylor_torchvggish_master\n",
      "Using cache found in /home/bs4283/.cache/torch/hub/harritaylor_torchvggish_master\n",
      "Using cache found in /home/bs4283/.cache/torch/hub/harritaylor_torchvggish_master\n",
      "Using cache found in /home/bs4283/.cache/torch/hub/harritaylor_torchvggish_master\n",
      "Using cache found in /home/bs4283/.cache/torch/hub/harritaylor_torchvggish_master\n",
      "Using cache found in /home/bs4283/.cache/torch/hub/harritaylor_torchvggish_master\n",
      "Using cache found in /home/bs4283/.cache/torch/hub/harritaylor_torchvggish_master\n",
      "Using cache found in /home/bs4283/.cache/torch/hub/harritaylor_torchvggish_master\n",
      "Using cache found in /home/bs4283/.cache/torch/hub/harritaylor_torchvggish_master\n",
      "Using cache found in /home/bs4283/.cache/torch/hub/harritaylor_torchvggish_master\n",
      "Using cache found in /home/bs4283/.cache/torch/hub/harritaylor_torchvggish_master\n",
      "Using cache found in /home/bs4283/.cache/torch/hub/harritaylor_torchvggish_master\n",
      "Using cache found in /home/bs4283/.cache/torch/hub/harritaylor_torchvggish_master\n",
      "Using cache found in /home/bs4283/.cache/torch/hub/harritaylor_torchvggish_master\n",
      "Using cache found in /home/bs4283/.cache/torch/hub/harritaylor_torchvggish_master\n",
      "Using cache found in /home/bs4283/.cache/torch/hub/harritaylor_torchvggish_master\n",
      "Using cache found in /home/bs4283/.cache/torch/hub/harritaylor_torchvggish_master\n",
      "Using cache found in /home/bs4283/.cache/torch/hub/harritaylor_torchvggish_master\n",
      "Using cache found in /home/bs4283/.cache/torch/hub/harritaylor_torchvggish_master\n",
      "Using cache found in /home/bs4283/.cache/torch/hub/harritaylor_torchvggish_master\n",
      "Using cache found in /home/bs4283/.cache/torch/hub/harritaylor_torchvggish_master\n",
      "Using cache found in /home/bs4283/.cache/torch/hub/harritaylor_torchvggish_master\n",
      "Using cache found in /home/bs4283/.cache/torch/hub/harritaylor_torchvggish_master\n",
      "Using cache found in /home/bs4283/.cache/torch/hub/harritaylor_torchvggish_master\n",
      "Using cache found in /home/bs4283/.cache/torch/hub/harritaylor_torchvggish_master\n",
      "Using cache found in /home/bs4283/.cache/torch/hub/harritaylor_torchvggish_master\n",
      "Using cache found in /home/bs4283/.cache/torch/hub/harritaylor_torchvggish_master\n",
      "Using cache found in /home/bs4283/.cache/torch/hub/harritaylor_torchvggish_master\n",
      "Using cache found in /home/bs4283/.cache/torch/hub/harritaylor_torchvggish_master\n",
      "Using cache found in /home/bs4283/.cache/torch/hub/harritaylor_torchvggish_master\n",
      "Using cache found in /home/bs4283/.cache/torch/hub/harritaylor_torchvggish_master\n",
      "Using cache found in /home/bs4283/.cache/torch/hub/harritaylor_torchvggish_master\n",
      "Using cache found in /home/bs4283/.cache/torch/hub/harritaylor_torchvggish_master\n",
      "Using cache found in /home/bs4283/.cache/torch/hub/harritaylor_torchvggish_master\n",
      "Using cache found in /home/bs4283/.cache/torch/hub/harritaylor_torchvggish_master\n",
      "Using cache found in /home/bs4283/.cache/torch/hub/harritaylor_torchvggish_master\n",
      "Using cache found in /home/bs4283/.cache/torch/hub/harritaylor_torchvggish_master\n",
      "Using cache found in /home/bs4283/.cache/torch/hub/harritaylor_torchvggish_master\n",
      "Using cache found in /home/bs4283/.cache/torch/hub/harritaylor_torchvggish_master\n",
      "Using cache found in /home/bs4283/.cache/torch/hub/harritaylor_torchvggish_master\n",
      "Using cache found in /home/bs4283/.cache/torch/hub/harritaylor_torchvggish_master\n",
      "Using cache found in /home/bs4283/.cache/torch/hub/harritaylor_torchvggish_master\n",
      "Using cache found in /home/bs4283/.cache/torch/hub/harritaylor_torchvggish_master\n",
      "Using cache found in /home/bs4283/.cache/torch/hub/harritaylor_torchvggish_master\n",
      "Using cache found in /home/bs4283/.cache/torch/hub/harritaylor_torchvggish_master\n",
      "Using cache found in /home/bs4283/.cache/torch/hub/harritaylor_torchvggish_master\n",
      "Using cache found in /home/bs4283/.cache/torch/hub/harritaylor_torchvggish_master\n",
      "Using cache found in /home/bs4283/.cache/torch/hub/harritaylor_torchvggish_master\n",
      "Using cache found in /home/bs4283/.cache/torch/hub/harritaylor_torchvggish_master\n",
      "Using cache found in /home/bs4283/.cache/torch/hub/harritaylor_torchvggish_master\n",
      "Using cache found in /home/bs4283/.cache/torch/hub/harritaylor_torchvggish_master\n",
      "Using cache found in /home/bs4283/.cache/torch/hub/harritaylor_torchvggish_master\n",
      "Using cache found in /home/bs4283/.cache/torch/hub/harritaylor_torchvggish_master\n",
      "Using cache found in /home/bs4283/.cache/torch/hub/harritaylor_torchvggish_master\n",
      "Using cache found in /home/bs4283/.cache/torch/hub/harritaylor_torchvggish_master\n",
      "Using cache found in /home/bs4283/.cache/torch/hub/harritaylor_torchvggish_master\n",
      "Using cache found in /home/bs4283/.cache/torch/hub/harritaylor_torchvggish_master\n",
      "Using cache found in /home/bs4283/.cache/torch/hub/harritaylor_torchvggish_master\n",
      "Using cache found in /home/bs4283/.cache/torch/hub/harritaylor_torchvggish_master\n",
      "Using cache found in /home/bs4283/.cache/torch/hub/harritaylor_torchvggish_master\n",
      "Using cache found in /home/bs4283/.cache/torch/hub/harritaylor_torchvggish_master\n",
      "Using cache found in /home/bs4283/.cache/torch/hub/harritaylor_torchvggish_master\n",
      "Using cache found in /home/bs4283/.cache/torch/hub/harritaylor_torchvggish_master\n",
      "Using cache found in /home/bs4283/.cache/torch/hub/harritaylor_torchvggish_master\n",
      "Using cache found in /home/bs4283/.cache/torch/hub/harritaylor_torchvggish_master\n",
      "Using cache found in /home/bs4283/.cache/torch/hub/harritaylor_torchvggish_master\n",
      "Using cache found in /home/bs4283/.cache/torch/hub/harritaylor_torchvggish_master\n",
      "Using cache found in /home/bs4283/.cache/torch/hub/harritaylor_torchvggish_master\n",
      "Using cache found in /home/bs4283/.cache/torch/hub/harritaylor_torchvggish_master\n",
      "Using cache found in /home/bs4283/.cache/torch/hub/harritaylor_torchvggish_master\n",
      "Using cache found in /home/bs4283/.cache/torch/hub/harritaylor_torchvggish_master\n",
      "Using cache found in /home/bs4283/.cache/torch/hub/harritaylor_torchvggish_master\n",
      "Using cache found in /home/bs4283/.cache/torch/hub/harritaylor_torchvggish_master\n",
      "Using cache found in /home/bs4283/.cache/torch/hub/harritaylor_torchvggish_master\n",
      "Using cache found in /home/bs4283/.cache/torch/hub/harritaylor_torchvggish_master\n",
      "Using cache found in /home/bs4283/.cache/torch/hub/harritaylor_torchvggish_master\n",
      "Using cache found in /home/bs4283/.cache/torch/hub/harritaylor_torchvggish_master\n",
      "Using cache found in /home/bs4283/.cache/torch/hub/harritaylor_torchvggish_master\n",
      "Using cache found in /home/bs4283/.cache/torch/hub/harritaylor_torchvggish_master\n",
      "Using cache found in /home/bs4283/.cache/torch/hub/harritaylor_torchvggish_master\n",
      "Using cache found in /home/bs4283/.cache/torch/hub/harritaylor_torchvggish_master\n",
      "Using cache found in /home/bs4283/.cache/torch/hub/harritaylor_torchvggish_master\n",
      "Using cache found in /home/bs4283/.cache/torch/hub/harritaylor_torchvggish_master\n",
      "Using cache found in /home/bs4283/.cache/torch/hub/harritaylor_torchvggish_master\n",
      "Using cache found in /home/bs4283/.cache/torch/hub/harritaylor_torchvggish_master\n",
      "Using cache found in /home/bs4283/.cache/torch/hub/harritaylor_torchvggish_master\n",
      "Using cache found in /home/bs4283/.cache/torch/hub/harritaylor_torchvggish_master\n",
      "Using cache found in /home/bs4283/.cache/torch/hub/harritaylor_torchvggish_master\n",
      "Using cache found in /home/bs4283/.cache/torch/hub/harritaylor_torchvggish_master\n",
      "Using cache found in /home/bs4283/.cache/torch/hub/harritaylor_torchvggish_master\n",
      "Using cache found in /home/bs4283/.cache/torch/hub/harritaylor_torchvggish_master\n",
      "Using cache found in /home/bs4283/.cache/torch/hub/harritaylor_torchvggish_master\n",
      "Using cache found in /home/bs4283/.cache/torch/hub/harritaylor_torchvggish_master\n",
      "Using cache found in /home/bs4283/.cache/torch/hub/harritaylor_torchvggish_master\n",
      "Using cache found in /home/bs4283/.cache/torch/hub/harritaylor_torchvggish_master\n",
      "Using cache found in /home/bs4283/.cache/torch/hub/harritaylor_torchvggish_master\n",
      "Using cache found in /home/bs4283/.cache/torch/hub/harritaylor_torchvggish_master\n",
      "Using cache found in /home/bs4283/.cache/torch/hub/harritaylor_torchvggish_master\n",
      "Using cache found in /home/bs4283/.cache/torch/hub/harritaylor_torchvggish_master\n",
      "Using cache found in /home/bs4283/.cache/torch/hub/harritaylor_torchvggish_master\n",
      "Using cache found in /home/bs4283/.cache/torch/hub/harritaylor_torchvggish_master\n",
      "Using cache found in /home/bs4283/.cache/torch/hub/harritaylor_torchvggish_master\n",
      "Using cache found in /home/bs4283/.cache/torch/hub/harritaylor_torchvggish_master\n",
      "Using cache found in /home/bs4283/.cache/torch/hub/harritaylor_torchvggish_master\n",
      "Using cache found in /home/bs4283/.cache/torch/hub/harritaylor_torchvggish_master\n",
      "Using cache found in /home/bs4283/.cache/torch/hub/harritaylor_torchvggish_master\n",
      "Using cache found in /home/bs4283/.cache/torch/hub/harritaylor_torchvggish_master\n",
      "Using cache found in /home/bs4283/.cache/torch/hub/harritaylor_torchvggish_master\n",
      "Using cache found in /home/bs4283/.cache/torch/hub/harritaylor_torchvggish_master\n",
      "Using cache found in /home/bs4283/.cache/torch/hub/harritaylor_torchvggish_master\n",
      "Using cache found in /home/bs4283/.cache/torch/hub/harritaylor_torchvggish_master\n",
      "Using cache found in /home/bs4283/.cache/torch/hub/harritaylor_torchvggish_master\n",
      "Using cache found in /home/bs4283/.cache/torch/hub/harritaylor_torchvggish_master\n",
      "Using cache found in /home/bs4283/.cache/torch/hub/harritaylor_torchvggish_master\n",
      "Using cache found in /home/bs4283/.cache/torch/hub/harritaylor_torchvggish_master\n",
      "Using cache found in /home/bs4283/.cache/torch/hub/harritaylor_torchvggish_master\n",
      "Using cache found in /home/bs4283/.cache/torch/hub/harritaylor_torchvggish_master\n",
      "Using cache found in /home/bs4283/.cache/torch/hub/harritaylor_torchvggish_master\n",
      "Using cache found in /home/bs4283/.cache/torch/hub/harritaylor_torchvggish_master\n",
      "Using cache found in /home/bs4283/.cache/torch/hub/harritaylor_torchvggish_master\n",
      "Using cache found in /home/bs4283/.cache/torch/hub/harritaylor_torchvggish_master\n",
      "Using cache found in /home/bs4283/.cache/torch/hub/harritaylor_torchvggish_master\n",
      "Using cache found in /home/bs4283/.cache/torch/hub/harritaylor_torchvggish_master\n",
      "Using cache found in /home/bs4283/.cache/torch/hub/harritaylor_torchvggish_master\n",
      "Using cache found in /home/bs4283/.cache/torch/hub/harritaylor_torchvggish_master\n",
      "Using cache found in /home/bs4283/.cache/torch/hub/harritaylor_torchvggish_master\n",
      "Using cache found in /home/bs4283/.cache/torch/hub/harritaylor_torchvggish_master\n",
      "Using cache found in /home/bs4283/.cache/torch/hub/harritaylor_torchvggish_master\n",
      "Using cache found in /home/bs4283/.cache/torch/hub/harritaylor_torchvggish_master\n",
      "Using cache found in /home/bs4283/.cache/torch/hub/harritaylor_torchvggish_master\n",
      "Using cache found in /home/bs4283/.cache/torch/hub/harritaylor_torchvggish_master\n",
      "Using cache found in /home/bs4283/.cache/torch/hub/harritaylor_torchvggish_master\n",
      "Using cache found in /home/bs4283/.cache/torch/hub/harritaylor_torchvggish_master\n",
      "Using cache found in /home/bs4283/.cache/torch/hub/harritaylor_torchvggish_master\n",
      "Using cache found in /home/bs4283/.cache/torch/hub/harritaylor_torchvggish_master\n",
      "Using cache found in /home/bs4283/.cache/torch/hub/harritaylor_torchvggish_master\n",
      "Using cache found in /home/bs4283/.cache/torch/hub/harritaylor_torchvggish_master\n",
      "Using cache found in /home/bs4283/.cache/torch/hub/harritaylor_torchvggish_master\n",
      "Using cache found in /home/bs4283/.cache/torch/hub/harritaylor_torchvggish_master\n",
      "Using cache found in /home/bs4283/.cache/torch/hub/harritaylor_torchvggish_master\n",
      "Using cache found in /home/bs4283/.cache/torch/hub/harritaylor_torchvggish_master\n",
      "Using cache found in /home/bs4283/.cache/torch/hub/harritaylor_torchvggish_master\n",
      "Using cache found in /home/bs4283/.cache/torch/hub/harritaylor_torchvggish_master\n",
      "Using cache found in /home/bs4283/.cache/torch/hub/harritaylor_torchvggish_master\n",
      "Using cache found in /home/bs4283/.cache/torch/hub/harritaylor_torchvggish_master\n",
      "Using cache found in /home/bs4283/.cache/torch/hub/harritaylor_torchvggish_master\n",
      "Using cache found in /home/bs4283/.cache/torch/hub/harritaylor_torchvggish_master\n",
      "Using cache found in /home/bs4283/.cache/torch/hub/harritaylor_torchvggish_master\n",
      "Using cache found in /home/bs4283/.cache/torch/hub/harritaylor_torchvggish_master\n",
      "Using cache found in /home/bs4283/.cache/torch/hub/harritaylor_torchvggish_master\n",
      "Using cache found in /home/bs4283/.cache/torch/hub/harritaylor_torchvggish_master\n",
      "Using cache found in /home/bs4283/.cache/torch/hub/harritaylor_torchvggish_master\n",
      "Using cache found in /home/bs4283/.cache/torch/hub/harritaylor_torchvggish_master\n",
      "Using cache found in /home/bs4283/.cache/torch/hub/harritaylor_torchvggish_master\n",
      "Using cache found in /home/bs4283/.cache/torch/hub/harritaylor_torchvggish_master\n",
      "Using cache found in /home/bs4283/.cache/torch/hub/harritaylor_torchvggish_master\n",
      "Using cache found in /home/bs4283/.cache/torch/hub/harritaylor_torchvggish_master\n",
      "Using cache found in /home/bs4283/.cache/torch/hub/harritaylor_torchvggish_master\n",
      "Using cache found in /home/bs4283/.cache/torch/hub/harritaylor_torchvggish_master\n",
      "Using cache found in /home/bs4283/.cache/torch/hub/harritaylor_torchvggish_master\n",
      "Using cache found in /home/bs4283/.cache/torch/hub/harritaylor_torchvggish_master\n",
      "Using cache found in /home/bs4283/.cache/torch/hub/harritaylor_torchvggish_master\n",
      "Using cache found in /home/bs4283/.cache/torch/hub/harritaylor_torchvggish_master\n",
      "Using cache found in /home/bs4283/.cache/torch/hub/harritaylor_torchvggish_master\n",
      "Using cache found in /home/bs4283/.cache/torch/hub/harritaylor_torchvggish_master\n",
      "Using cache found in /home/bs4283/.cache/torch/hub/harritaylor_torchvggish_master\n",
      "Using cache found in /home/bs4283/.cache/torch/hub/harritaylor_torchvggish_master\n",
      "Using cache found in /home/bs4283/.cache/torch/hub/harritaylor_torchvggish_master\n",
      "Using cache found in /home/bs4283/.cache/torch/hub/harritaylor_torchvggish_master\n",
      "Using cache found in /home/bs4283/.cache/torch/hub/harritaylor_torchvggish_master\n",
      "Using cache found in /home/bs4283/.cache/torch/hub/harritaylor_torchvggish_master\n",
      "Using cache found in /home/bs4283/.cache/torch/hub/harritaylor_torchvggish_master\n",
      "Using cache found in /home/bs4283/.cache/torch/hub/harritaylor_torchvggish_master\n",
      "Using cache found in /home/bs4283/.cache/torch/hub/harritaylor_torchvggish_master\n",
      "Using cache found in /home/bs4283/.cache/torch/hub/harritaylor_torchvggish_master\n",
      "Using cache found in /home/bs4283/.cache/torch/hub/harritaylor_torchvggish_master\n",
      "Using cache found in /home/bs4283/.cache/torch/hub/harritaylor_torchvggish_master\n",
      "Using cache found in /home/bs4283/.cache/torch/hub/harritaylor_torchvggish_master\n",
      "Using cache found in /home/bs4283/.cache/torch/hub/harritaylor_torchvggish_master\n",
      "Using cache found in /home/bs4283/.cache/torch/hub/harritaylor_torchvggish_master\n",
      "Using cache found in /home/bs4283/.cache/torch/hub/harritaylor_torchvggish_master\n",
      "Using cache found in /home/bs4283/.cache/torch/hub/harritaylor_torchvggish_master\n",
      "Using cache found in /home/bs4283/.cache/torch/hub/harritaylor_torchvggish_master\n",
      "Using cache found in /home/bs4283/.cache/torch/hub/harritaylor_torchvggish_master\n",
      "Using cache found in /home/bs4283/.cache/torch/hub/harritaylor_torchvggish_master\n",
      "Using cache found in /home/bs4283/.cache/torch/hub/harritaylor_torchvggish_master\n",
      "Using cache found in /home/bs4283/.cache/torch/hub/harritaylor_torchvggish_master\n",
      "Using cache found in /home/bs4283/.cache/torch/hub/harritaylor_torchvggish_master\n",
      "Using cache found in /home/bs4283/.cache/torch/hub/harritaylor_torchvggish_master\n",
      "Using cache found in /home/bs4283/.cache/torch/hub/harritaylor_torchvggish_master\n",
      "Using cache found in /home/bs4283/.cache/torch/hub/harritaylor_torchvggish_master\n",
      "Using cache found in /home/bs4283/.cache/torch/hub/harritaylor_torchvggish_master\n",
      "Using cache found in /home/bs4283/.cache/torch/hub/harritaylor_torchvggish_master\n",
      "Using cache found in /home/bs4283/.cache/torch/hub/harritaylor_torchvggish_master\n",
      "Using cache found in /home/bs4283/.cache/torch/hub/harritaylor_torchvggish_master\n"
     ]
    }
   ],
   "source": [
    "sub_list = torch.tensor([1,2,3,4,5,6,8,10,11,12,13,28,36,43,47,52,56,57,58,59])-1\n",
    "cat_s = -1 \n",
    "for cat in sub_list:\n",
    "    cat_s = cat_s + 1 \n",
    "    fileList_data = os.listdir('/scratch/bs4283/auditory_data/data_20sample/test_voice_20')\n",
    "    fileList_data.sort(key=list_sort_data)\n",
    "    sub = torch.arange(3000)\n",
    "    sub = sub.numpy()\n",
    "    sub_cat = torch.arange(cat_s*150,(cat_s+1)*150,1)\n",
    "    sub_cat = sub_cat.numpy()\n",
    "    sub_diff = np.setdiff1d(sub,sub_cat)\n",
    "    r1 = torch.randperm(150)\n",
    "    r2 = torch.randperm(2850)\n",
    "    data_poi = np.array(fileList_data)[sub_cat[r1.numpy()]]\n",
    "    data_neg = np.array(fileList_data)[sub_diff[r2.numpy()]]\n",
    "    poi_data = torch.tensor([]).to(device)\n",
    "    neg_data = torch.tensor([]).to(device)\n",
    "    \n",
    "    for kk in range(data_num):\n",
    "        poi_path = os.path.join(data_folder,data_poi[kk])\n",
    "        p = vggish_input.wavfile_to_examples(poi_path).to(device)\n",
    "        poi_data = torch.cat([poi_data,p])\n",
    "\n",
    "\n",
    "    orde = -1\n",
    "    while neg_data.size(dim=0) < 75:\n",
    "        orde = orde + 1 \n",
    "        filename = data_neg[orde].rpartition('.')\n",
    " #       if int(filename[0][3:5]) == cat+1:\n",
    " #             continue\n",
    "        neg_path = os.path.join(data_folder,data_neg[orde])\n",
    "        n = vggish_input.wavfile_to_examples(neg_path).to(device)\n",
    "        neg_data = torch.cat([neg_data,n])\n",
    "        \n",
    "        \n",
    "    w = torch.load(binary_weight)\n",
    "    bin_b = torch.load(binary_bias)[cat_s]\n",
    "    bin_w = w[cat_s,:]\n",
    "    bin_w = torch.unsqueeze(bin_w,0)\n",
    "    \n",
    "    pr = np.ones([2,6])\n",
    "    nr = np.ones([2,6])\n",
    "    for jj in range(6):\n",
    "        at = -1\n",
    "        for ast in astrgs:\n",
    "            at = at+1\n",
    "            t = make_amats(cat_s,jj,ast)\n",
    "            model_v = VGG16ish(binary_weight = bin_w,binary_bias = bin_b ,tunning = t)            \n",
    "            model_v.eval()\n",
    "            p_result = model_v(poi_data)\n",
    "            n_result  = model_v(neg_data)\n",
    "            p_rate = torch.sum(p_result>0.5).cpu().numpy()/75\n",
    "            n_rate = torch.sum(n_result<0.5).cpu().numpy()/75\n",
    "            pr[at,jj] = p_rate\n",
    "            nr[at,jj] = n_rate\n",
    "    np.save('/scratch/bs4283/auditory_data/data_20sample/result_raw_data/cat'+ str(cat.numpy()) + '_poi.npy',pr)\n",
    "    np.save('/scratch/bs4283/auditory_data/data_20sample/result_raw_data/cat'+ str(cat.numpy()) + '_neg.npy',nr)            "
   ]
  },
  {
   "cell_type": "code",
   "execution_count": null,
   "metadata": {},
   "outputs": [],
   "source": [
    "poi_data.shape"
   ]
  },
  {
   "cell_type": "code",
   "execution_count": null,
   "metadata": {},
   "outputs": [],
   "source": []
  },
  {
   "cell_type": "code",
   "execution_count": null,
   "metadata": {},
   "outputs": [],
   "source": []
  },
  {
   "cell_type": "code",
   "execution_count": null,
   "metadata": {},
   "outputs": [],
   "source": []
  },
  {
   "cell_type": "code",
   "execution_count": null,
   "metadata": {},
   "outputs": [],
   "source": [
    "pr"
   ]
  },
  {
   "cell_type": "code",
   "execution_count": null,
   "metadata": {},
   "outputs": [],
   "source": [
    "nr"
   ]
  },
  {
   "cell_type": "code",
   "execution_count": null,
   "metadata": {},
   "outputs": [],
   "source": [
    "pr+nr"
   ]
  },
  {
   "cell_type": "code",
   "execution_count": null,
   "metadata": {},
   "outputs": [],
   "source": [
    "for cat in torch.arange(2,20):\n",
    "    pr = np.ones([2,6])\n",
    "    nr = np.ones([2,6])\n",
    "    sub_cat = torch.arange(cat*150,(cat+1)*150,1)\n",
    "    sub_cat = sub_cat.numpy()\n",
    "    sub_diff = np.setdiff1d(sub,sub_cat)\n",
    "    r1 = torch.randperm(150)[0:data_num]\n",
    "    r2 = torch.randperm(8850)[0:data_num]\n",
    "    data_poi = np.array(fileList_data)[sub_cat[r1.numpy()]]\n",
    "    data_neg = np.array(fileList_data)[sub_diff[r2.numpy()]]\n",
    "    poi_data = torch.tensor([]).to(device)\n",
    "    neg_data = torch.tensor([]).to(device)\n",
    "    for kk in range(data_num):\n",
    "        poi_path = os.path.join(data_folder,data_poi[kk])\n",
    "        neg_path = os.path.join(data_folder,data_neg[kk])\n",
    "        p = vggish_input.wavfile_to_examples(poi_path).to(device)\n",
    "        n = vggish_input.wavfile_to_examples(neg_path).to(device)\n",
    "        poi_data = torch.cat([poi_data,p])\n",
    "        neg_data = torch.cat([neg_data,n])\n",
    "    w = torch.load(binary_weight)\n",
    "    bin_b = torch.load(binary_bias)[cat]\n",
    "    bin_w = w[cat,:]\n",
    "    bin_w = torch.unsqueeze(bin_w,0)\n",
    "    \n",
    "    for jj in range(6):\n",
    "        at = -1\n",
    "        for ast in astrgs:\n",
    "            at = at+1\n",
    "            t = make_amats(cat,jj,ast)\n",
    "            model_v = VGG16ish(binary_weight = bin_w,binary_bias = bin_b ,tunning = t)\n",
    "            model_v.eval()\n",
    "            p_result = model_v(poi_data)\n",
    "            n_result  = model_v(neg_data)\n",
    "\n",
    "            p_rate = torch.sum(p_result>0.5).cpu().numpy()/75\n",
    "            n_rate = torch.sum(n_result<0.5).cpu().numpy()/75\n",
    "            pr[at,jj] = p_rate\n",
    "            nr[at,jj] = n_rate\n",
    "    np.save('/scratch/bs4283/auditory_data/result/cat'+ str(cat) + '_poi.npy',pr)\n",
    "    np.save('/scratch/bs4283/auditory_data/result/cat'+ str(cat) + '_neg.npy',nr)"
   ]
  },
  {
   "cell_type": "code",
   "execution_count": null,
   "metadata": {},
   "outputs": [],
   "source": []
  },
  {
   "cell_type": "markdown",
   "metadata": {},
   "source": [
    "Try raw data"
   ]
  },
  {
   "cell_type": "code",
   "execution_count": null,
   "metadata": {},
   "outputs": [],
   "source": [
    "w = torch.load(binary_weight)\n",
    "bin_b = torch.load(binary_bias)[0]\n",
    "bin_w = w[0,:]\n",
    "bin_w = torch.unsqueeze(bin_w,0)"
   ]
  },
  {
   "cell_type": "code",
   "execution_count": null,
   "metadata": {},
   "outputs": [],
   "source": [
    "t = make_amats(0,0,0)\n",
    "model = VGG16ish(binary_weight = bin_w,binary_bias = bin_b ,tunning = t) "
   ]
  },
  {
   "cell_type": "code",
   "execution_count": null,
   "metadata": {},
   "outputs": [],
   "source": [
    "def list_sort_data_try(x : str):\n",
    "    if '.' in x:\n",
    "        # 将文件名字用_进行分割\n",
    "        x = x.rpartition('.')\n",
    "        # 将x用.进行分割，最后拿到数字\n",
    "        if x[0][1] == '-':      \n",
    "            x = x[0][0]\n",
    "        else:\n",
    "            x=x[0][2:4]\n",
    "    else:\n",
    "        x = 0\n",
    "    return int(x)"
   ]
  },
  {
   "cell_type": "code",
   "execution_count": null,
   "metadata": {},
   "outputs": [],
   "source": [
    "f_path = '/scratch/bs4283/auditory_data/data/re_test_voice/'\n",
    "ft_data = os.listdir(f_path)\n",
    "ft_data.sort(key=list_sort_data_try)\n",
    "sub1_data = torch.tensor([]).to(device)\n",
    "for ii in range(300):\n",
    "    sd = os.path.join(f_path,ft_data[ii])\n",
    "    n = vggish_input.wavfile_to_examples(sd).to(device)\n",
    "    sub1_data = torch.cat([sub1_data,n])"
   ]
  },
  {
   "cell_type": "code",
   "execution_count": null,
   "metadata": {},
   "outputs": [],
   "source": [
    "sub1_data.shape"
   ]
  },
  {
   "cell_type": "code",
   "execution_count": null,
   "metadata": {},
   "outputs": [],
   "source": [
    "rr = model(sub1_data)"
   ]
  },
  {
   "cell_type": "code",
   "execution_count": null,
   "metadata": {},
   "outputs": [],
   "source": [
    "rr_p = rr[:150]"
   ]
  },
  {
   "cell_type": "code",
   "execution_count": null,
   "metadata": {},
   "outputs": [],
   "source": [
    "rr_n = rr[150:]"
   ]
  },
  {
   "cell_type": "code",
   "execution_count": null,
   "metadata": {},
   "outputs": [],
   "source": [
    "torch.sum(rr_p>0.5)/150"
   ]
  },
  {
   "cell_type": "code",
   "execution_count": null,
   "metadata": {},
   "outputs": [],
   "source": [
    "torch.sum(rr_n<0.5)/150"
   ]
  },
  {
   "cell_type": "code",
   "execution_count": null,
   "metadata": {},
   "outputs": [],
   "source": []
  },
  {
   "cell_type": "markdown",
   "metadata": {},
   "source": [
    "Sub2"
   ]
  },
  {
   "cell_type": "code",
   "execution_count": null,
   "metadata": {},
   "outputs": [],
   "source": [
    "w = torch.load(binary_weight)\n",
    "bin_b = torch.load(binary_bias)[1]\n",
    "bin_w = w[1,:]\n",
    "bin_w = torch.unsqueeze(bin_w,0)"
   ]
  },
  {
   "cell_type": "code",
   "execution_count": null,
   "metadata": {},
   "outputs": [],
   "source": [
    "t = make_amats(0,0,0)\n",
    "model2 = VGG16ish(binary_weight = bin_w,binary_bias = bin_b ,tunning = t) "
   ]
  },
  {
   "cell_type": "code",
   "execution_count": null,
   "metadata": {},
   "outputs": [],
   "source": [
    "rr2 = model2(sub1_data)"
   ]
  },
  {
   "cell_type": "code",
   "execution_count": null,
   "metadata": {},
   "outputs": [],
   "source": [
    "rr2_p = rr2[150:]; rr2_n = rr2[:150]"
   ]
  },
  {
   "cell_type": "code",
   "execution_count": null,
   "metadata": {},
   "outputs": [],
   "source": [
    "torch.sum(rr2_p>0.5)/150"
   ]
  },
  {
   "cell_type": "code",
   "execution_count": null,
   "metadata": {},
   "outputs": [],
   "source": [
    "torch.sum(rr2_n<0.5)/150"
   ]
  },
  {
   "cell_type": "code",
   "execution_count": null,
   "metadata": {},
   "outputs": [],
   "source": []
  },
  {
   "cell_type": "code",
   "execution_count": null,
   "metadata": {},
   "outputs": [],
   "source": []
  },
  {
   "cell_type": "code",
   "execution_count": null,
   "metadata": {},
   "outputs": [],
   "source": [
    "sub1_data.shape"
   ]
  },
  {
   "cell_type": "code",
   "execution_count": null,
   "metadata": {},
   "outputs": [],
   "source": [
    "rr = model(sub1_data).to(device)"
   ]
  },
  {
   "cell_type": "code",
   "execution_count": null,
   "metadata": {},
   "outputs": [],
   "source": [
    "sub1_data"
   ]
  },
  {
   "cell_type": "code",
   "execution_count": null,
   "metadata": {},
   "outputs": [],
   "source": []
  },
  {
   "cell_type": "code",
   "execution_count": null,
   "metadata": {},
   "outputs": [],
   "source": [
    "cas = -1\n",
    "for cat in range(1):\n",
    "    cas = cas+1\n",
    "    pr = np.ones([2,6])\n",
    "    nr = np.ones([2,6])\n",
    "    sub_cat = torch.arange(cat*150,(cat+1)*150,1)\n",
    "    sub_cat = sub_cat.numpy()\n",
    "    sub_diff = np.setdiff1d(sub,sub_cat)\n",
    "    r1 = torch.randperm(150)[0:data_num]\n",
    "    r2 = torch.randperm(8850)[0:data_num]\n",
    "    data_poi = np.array(fileList_data)[sub_cat[r1.numpy()]]\n",
    "    data_neg = np.array(fileList_data)[sub_diff[r2.numpy()]]\n",
    "    poi_data = torch.tensor([]).to(device)\n",
    "    neg_data = torch.tensor([]).to(device)\n",
    "    for kk in range(data_num):\n",
    "        poi_path = os.path.join(data_folder,data_poi[kk])\n",
    "        neg_path = os.path.join(data_folder,data_neg[kk])\n",
    "        p = vggish_input.wavfile_to_examples(poi_path).to(device)\n",
    "        n = vggish_input.wavfile_to_examples(neg_path).to(device)\n",
    "        poi_data = torch.cat([poi_data,p])\n",
    "        neg_data = torch.cat([neg_data,n])\n",
    "    w = torch.load(binary_weight)\n",
    "    bin_b = torch.load(binary_bias)[cat]\n",
    "    bin_w = w[cat,:]\n",
    "    bin_w = torch.unsqueeze(bin_w,0)\n",
    "    \n",
    "    for jj in range(6):\n",
    "        at = -1\n",
    "        for ast in astrgs:\n",
    "            at = at+1\n",
    "            t = make_amats(cat,jj,ast)\n",
    "            model_v = VGG16ish(binary_weight = bin_w,binary_bias = bin_b ,tunning = t)\n",
    "            model_v.eval()\n",
    "            p_result = model_v(poi_data)\n",
    "            n_result  = model_v(neg_data)\n",
    "\n",
    "            p_rate = torch.sum(p_result>0.5).cpu().numpy()/75\n",
    "            n_rate = torch.sum(n_result<0.5).cpu().numpy()/75\n",
    "            pr[at,jj] = p_rate\n",
    "            nr[at,jj] = n_rate\n",
    "    np.save('/scratch/bs4283/auditory_data/result/cat'+ str(cas) + '_poi_new.npy',pr)\n",
    "    np.save('/scratch/bs4283/auditory_data/result/cat'+ str(cas) + '_neg_new.npy',nr)"
   ]
  },
  {
   "cell_type": "markdown",
   "metadata": {},
   "source": [
    "Single subject train"
   ]
  },
  {
   "cell_type": "code",
   "execution_count": null,
   "metadata": {},
   "outputs": [],
   "source": [
    "cat = 0\n",
    "sub_cat = torch.arange(cat*150,(cat+1)*150,1)\n",
    "sub = sub.numpy()\n",
    "sub_cat = sub_cat.numpy()\n",
    "sub_diff = np.setdiff1d(sub,sub_cat)\n",
    "r1 = torch.randperm(150)[0:data_num]\n",
    "r2 = torch.randperm(8850)[0:data_num]\n",
    "data_poi = np.array(fileList_data)[sub_cat[r1.numpy()]]\n",
    "data_neg = np.array(fileList_data)[sub_diff[r2.numpy()]]\n",
    "poi_data = torch.tensor([]).to(device)\n",
    "neg_data = torch.tensor([]).to(device)\n",
    "for kk in range(data_num):\n",
    "    poi_path = os.path.join(data_folder,data_poi[kk])\n",
    "    neg_path = os.path.join(data_folder,data_neg[kk])\n",
    "    p = vggish_input.wavfile_to_examples(poi_path).to(device)\n",
    "    n = vggish_input.wavfile_to_examples(neg_path).to(device)\n",
    "    poi_data = torch.cat([poi_data,p])\n",
    "    neg_data = torch.cat([neg_data,n])"
   ]
  },
  {
   "cell_type": "code",
   "execution_count": null,
   "metadata": {},
   "outputs": [],
   "source": [
    "w = torch.load(binary_weight)\n",
    "bin_b = torch.load(binary_bias)[cat]\n",
    "bin_w = w[cat,:]\n",
    "bin_w = torch.unsqueeze(bin_w,0)"
   ]
  },
  {
   "cell_type": "code",
   "execution_count": null,
   "metadata": {},
   "outputs": [],
   "source": [
    "for cat in torch.arange(2,20):\n",
    "    pr = np.ones([2,6])\n",
    "    nr = np.ones([2,6])\n",
    "    sub_cat = torch.arange(cat*150,(cat+1)*150,1)\n",
    "    sub_cat = sub_cat.numpy()\n",
    "    sub_diff = np.setdiff1d(sub,sub_cat)\n",
    "    r1 = torch.randperm(150)[0:data_num]\n",
    "    r2 = torch.randperm(8850)[0:data_num]\n",
    "    data_poi = np.array(fileList_data)[sub_cat[r1.numpy()]]\n",
    "    data_neg = np.array(fileList_data)[sub_diff[r2.numpy()]]\n",
    "    poi_data = torch.tensor([]).to(device)\n",
    "    neg_data = torch.tensor([]).to(device)\n",
    "    for kk in range(data_num):\n",
    "        poi_path = os.path.join(data_folder,data_poi[kk])\n",
    "        neg_path = os.path.join(data_folder,data_neg[kk])\n",
    "        p = vggish_input.wavfile_to_examples(poi_path).to(device)\n",
    "        n = vggish_input.wavfile_to_examples(neg_path).to(device)\n",
    "        poi_data = torch.cat([poi_data,p])\n",
    "        neg_data = torch.cat([neg_data,n])\n",
    "    w = torch.load(binary_weight)\n",
    "    bin_b = torch.load(binary_bias)[cat]\n",
    "    bin_w = w[cat,:]\n",
    "    bin_w = torch.unsqueeze(bin_w,0)\n",
    "    \n",
    "    for jj in range(6):\n",
    "        at = -1\n",
    "        for ast in astrgs:\n",
    "            at = at+1\n",
    "            t = make_amats(cat,jj,ast)\n",
    "            model_v = VGG16ish(binary_weight = bin_w,binary_bias = bin_b ,tunning = t)\n",
    "            model_v.eval()\n",
    "            p_result = model_v(poi_data)\n",
    "            n_result  = model_v(neg_data)\n",
    "\n",
    "            p_rate = torch.sum(p_result>0.5).cpu().numpy()/75\n",
    "            n_rate = torch.sum(n_result<0.5).cpu().numpy()/75\n",
    "            pr[at,jj] = p_rate\n",
    "            nr[at,jj] = n_rate\n",
    "    np.save('/scratch/bs4283/auditory_data/result/cat'+ str(cat) + '_poi.npy',pr)\n",
    "    np.save('/scratch/bs4283/auditory_data/result/cat'+ str(cat) + '_neg.npy',nr)"
   ]
  },
  {
   "cell_type": "code",
   "execution_count": null,
   "metadata": {},
   "outputs": [],
   "source": [
    "pr[1,:]"
   ]
  },
  {
   "cell_type": "code",
   "execution_count": null,
   "metadata": {},
   "outputs": [],
   "source": [
    "nr[1,:]"
   ]
  },
  {
   "cell_type": "code",
   "execution_count": null,
   "metadata": {},
   "outputs": [],
   "source": [
    "np.save('/scratch/bs4283/auditory_data/result/cat'+ str(cat) + '_poi.npy',pr)\n",
    "np.save('/scratch/bs4283/auditory_data/result/cat'+ str(cat) + '_neg.npy',nr)"
   ]
  },
  {
   "cell_type": "code",
   "execution_count": null,
   "metadata": {},
   "outputs": [],
   "source": [
    "torch.arange(2,20)"
   ]
  },
  {
   "cell_type": "code",
   "execution_count": null,
   "metadata": {},
   "outputs": [],
   "source": [
    "t = make_amats(cat,0,0)"
   ]
  },
  {
   "cell_type": "code",
   "execution_count": null,
   "metadata": {},
   "outputs": [],
   "source": [
    "model_v = VGG16ish(binary_weight = bin_w,binary_bias = bin_b ,tunning = t)\n",
    "model_v.eval()"
   ]
  },
  {
   "cell_type": "code",
   "execution_count": null,
   "metadata": {},
   "outputs": [],
   "source": [
    "p_result = model_v(poi_data)"
   ]
  },
  {
   "cell_type": "code",
   "execution_count": null,
   "metadata": {},
   "outputs": [],
   "source": [
    "n_result  = model_v(neg_data)"
   ]
  },
  {
   "cell_type": "markdown",
   "metadata": {},
   "source": [
    "astrgsTry"
   ]
  },
  {
   "cell_type": "code",
   "execution_count": null,
   "metadata": {},
   "outputs": [],
   "source": [
    "p_rate = torch.sum(p_result>0.5).cpu().numpy()/75"
   ]
  },
  {
   "cell_type": "code",
   "execution_count": null,
   "metadata": {},
   "outputs": [],
   "source": [
    "def list_sort(x : str):\n",
    "    if '.' in x:\n",
    "        # 将文件名字用_进行分割\n",
    "        x = x.rpartition('_')\n",
    "        # 将x用.进行分割，最后拿到数字\n",
    "        x = x[0][2:4]\n",
    "    else:\n",
    "        x = 0\n",
    "    return int(x)"
   ]
  },
  {
   "cell_type": "code",
   "execution_count": null,
   "metadata": {},
   "outputs": [],
   "source": [
    "kks = torch.tensor([])\n",
    "ss_path = '/scratch/bs4283/auditory_data/data/re_train_voice/training_data'\n",
    "fileList = os.listdir('/scratch/bs4283/auditory_data/data/re_train_voice/training_data')\n",
    "fileList.sort(key=list_sort)\n",
    "for filename in fileList[cat*200:(cat*200+75)]:\n",
    "    filepath = os.path.join(ss_path,filename)\n",
    "    vid = vggish_input.wavfile_to_examples(filepath)\n",
    "    kks = torch.cat([kks,vid])\n"
   ]
  },
  {
   "cell_type": "code",
   "execution_count": null,
   "metadata": {},
   "outputs": [],
   "source": [
    "fg=model_v(kks.to(device))"
   ]
  },
  {
   "cell_type": "code",
   "execution_count": null,
   "metadata": {},
   "outputs": [],
   "source": [
    "fg"
   ]
  },
  {
   "cell_type": "code",
   "execution_count": null,
   "metadata": {},
   "outputs": [],
   "source": [
    "int('01') == 1"
   ]
  },
  {
   "cell_type": "code",
   "execution_count": null,
   "metadata": {},
   "outputs": [],
   "source": []
  },
  {
   "cell_type": "code",
   "execution_count": null,
   "metadata": {},
   "outputs": [],
   "source": [
    "kks.shape"
   ]
  },
  {
   "cell_type": "code",
   "execution_count": null,
   "metadata": {},
   "outputs": [],
   "source": [
    "poi_data.shape"
   ]
  },
  {
   "cell_type": "code",
   "execution_count": null,
   "metadata": {},
   "outputs": [],
   "source": [
    "fileList = os.listdir('/scratch/bs4283/auditory_data/data/re_train_voice/training_data')\n",
    "fileList.sort(key=list_sort)"
   ]
  },
  {
   "cell_type": "code",
   "execution_count": null,
   "metadata": {},
   "outputs": [],
   "source": [
    "from script import vggish_input"
   ]
  },
  {
   "cell_type": "code",
   "execution_count": null,
   "metadata": {},
   "outputs": [],
   "source": [
    "vid = vggish_input.wavfile_to_examples('/scratch/bs4283/auditory_data/data/re_train_voice/training_data/6_01_39.wav')"
   ]
  },
  {
   "cell_type": "code",
   "execution_count": null,
   "metadata": {},
   "outputs": [],
   "source": [
    "kks = torch.tensor([])"
   ]
  },
  {
   "cell_type": "code",
   "execution_count": null,
   "metadata": {},
   "outputs": [],
   "source": [
    "vid.shape"
   ]
  },
  {
   "cell_type": "code",
   "execution_count": null,
   "metadata": {},
   "outputs": [],
   "source": [
    "kks = torch.cat([kks,vid])"
   ]
  },
  {
   "cell_type": "code",
   "execution_count": null,
   "metadata": {},
   "outputs": [],
   "source": [
    "kks.shape"
   ]
  },
  {
   "cell_type": "code",
   "execution_count": null,
   "metadata": {},
   "outputs": [],
   "source": [
    "fileList"
   ]
  },
  {
   "cell_type": "code",
   "execution_count": null,
   "metadata": {},
   "outputs": [],
   "source": []
  },
  {
   "cell_type": "code",
   "execution_count": null,
   "metadata": {},
   "outputs": [],
   "source": []
  },
  {
   "cell_type": "code",
   "execution_count": null,
   "metadata": {},
   "outputs": [],
   "source": [
    "oo = torch.ones([75,128]).to(device)\n",
    "linear2 = nn.Linear(128,1)"
   ]
  },
  {
   "cell_type": "code",
   "execution_count": null,
   "metadata": {},
   "outputs": [],
   "source": [
    "linear2.weight = nn.Parameter(bin_w.to(device))\n",
    "linear2.bias = nn.Parameter(bin_b.to(device))"
   ]
  },
  {
   "cell_type": "code",
   "execution_count": null,
   "metadata": {},
   "outputs": [],
   "source": [
    "oo.shape"
   ]
  },
  {
   "cell_type": "code",
   "execution_count": null,
   "metadata": {},
   "outputs": [],
   "source": [
    "linear2(oo)"
   ]
  },
  {
   "cell_type": "code",
   "execution_count": null,
   "metadata": {},
   "outputs": [],
   "source": [
    "linear2.bias.shape"
   ]
  },
  {
   "cell_type": "code",
   "execution_count": null,
   "metadata": {},
   "outputs": [],
   "source": []
  },
  {
   "cell_type": "code",
   "execution_count": null,
   "metadata": {},
   "outputs": [],
   "source": []
  },
  {
   "cell_type": "code",
   "execution_count": null,
   "metadata": {},
   "outputs": [],
   "source": []
  },
  {
   "cell_type": "code",
   "execution_count": null,
   "metadata": {},
   "outputs": [],
   "source": [
    "cd=torch.unsqueeze(bin_w,0)"
   ]
  },
  {
   "cell_type": "code",
   "execution_count": null,
   "metadata": {},
   "outputs": [],
   "source": [
    "cd.shape"
   ]
  },
  {
   "cell_type": "code",
   "execution_count": null,
   "metadata": {},
   "outputs": [],
   "source": [
    "data_poi = np.array(fileList_data)[sub_cat[r1.numpy()]]"
   ]
  },
  {
   "cell_type": "code",
   "execution_count": null,
   "metadata": {},
   "outputs": [],
   "source": [
    "data_poi"
   ]
  },
  {
   "cell_type": "code",
   "execution_count": null,
   "metadata": {},
   "outputs": [],
   "source": [
    "cc = np.array(fileList_data)[0]"
   ]
  },
  {
   "cell_type": "code",
   "execution_count": null,
   "metadata": {},
   "outputs": [],
   "source": [
    "filepath = os.path.join(data_folder,cc)"
   ]
  },
  {
   "cell_type": "code",
   "execution_count": null,
   "metadata": {},
   "outputs": [],
   "source": [
    "filepath"
   ]
  },
  {
   "cell_type": "code",
   "execution_count": null,
   "metadata": {},
   "outputs": [],
   "source": [
    "fileList_data[np.array([1])]"
   ]
  },
  {
   "cell_type": "code",
   "execution_count": null,
   "metadata": {},
   "outputs": [],
   "source": [
    "data_poi = fileList_data[sub_cat[list(r1.numpy())].tolist()]"
   ]
  },
  {
   "cell_type": "code",
   "execution_count": null,
   "metadata": {},
   "outputs": [],
   "source": [
    "data_poi = fileList_data[sub_cat[list(r1.numpy())]]"
   ]
  },
  {
   "cell_type": "code",
   "execution_count": null,
   "metadata": {},
   "outputs": [],
   "source": [
    "data_poi = fileList_data[sub_cat[r1.numpy()]]"
   ]
  },
  {
   "cell_type": "code",
   "execution_count": null,
   "metadata": {},
   "outputs": [],
   "source": [
    "data_poi = fileList_data[sub_cat[r1]]"
   ]
  },
  {
   "cell_type": "code",
   "execution_count": null,
   "metadata": {},
   "outputs": [],
   "source": [
    "r1 = torch.randperm(150)[0:75]"
   ]
  },
  {
   "cell_type": "code",
   "execution_count": null,
   "metadata": {},
   "outputs": [],
   "source": [
    "sub_diff.shape"
   ]
  },
  {
   "cell_type": "code",
   "execution_count": null,
   "metadata": {},
   "outputs": [],
   "source": [
    "r1 = torch.randperm(150)"
   ]
  },
  {
   "cell_type": "code",
   "execution_count": null,
   "metadata": {},
   "outputs": [],
   "source": [
    "r1"
   ]
  },
  {
   "cell_type": "code",
   "execution_count": null,
   "metadata": {},
   "outputs": [],
   "source": []
  },
  {
   "cell_type": "code",
   "execution_count": null,
   "metadata": {},
   "outputs": [],
   "source": [
    "model_base_layer[1]"
   ]
  },
  {
   "cell_type": "code",
   "execution_count": null,
   "metadata": {},
   "outputs": [],
   "source": [
    "sub_cat = torch.arange(cat*150,(cat+1)*150,1)"
   ]
  },
  {
   "cell_type": "code",
   "execution_count": null,
   "metadata": {},
   "outputs": [],
   "source": [
    "sub_cat.shape"
   ]
  },
  {
   "cell_type": "code",
   "execution_count": null,
   "metadata": {},
   "outputs": [],
   "source": [
    "make_amats(1,1,1,0.5)"
   ]
  },
  {
   "cell_type": "code",
   "execution_count": null,
   "metadata": {},
   "outputs": [],
   "source": [
    "isinstance(1,int)"
   ]
  },
  {
   "cell_type": "code",
   "execution_count": null,
   "metadata": {},
   "outputs": [],
   "source": [
    "s=torch.cat([sub,sub_cat])"
   ]
  },
  {
   "cell_type": "code",
   "execution_count": null,
   "metadata": {},
   "outputs": [],
   "source": [
    "torch.unique(s)"
   ]
  },
  {
   "cell_type": "code",
   "execution_count": null,
   "metadata": {},
   "outputs": [],
   "source": [
    "s"
   ]
  },
  {
   "cell_type": "code",
   "execution_count": null,
   "metadata": {},
   "outputs": [],
   "source": [
    "s"
   ]
  },
  {
   "cell_type": "code",
   "execution_count": null,
   "metadata": {},
   "outputs": [],
   "source": [
    "sd = torch.tensor([0,2,3,4])\n",
    "sds = torch.tensor([0,1,2,3])"
   ]
  },
  {
   "cell_type": "code",
   "execution_count": null,
   "metadata": {},
   "outputs": [],
   "source": [
    "set(sds)-set(sd)"
   ]
  },
  {
   "cell_type": "code",
   "execution_count": null,
   "metadata": {},
   "outputs": [],
   "source": [
    "c = set(sub)-set(sub_cat)"
   ]
  },
  {
   "cell_type": "code",
   "execution_count": null,
   "metadata": {},
   "outputs": [],
   "source": []
  },
  {
   "cell_type": "code",
   "execution_count": null,
   "metadata": {},
   "outputs": [],
   "source": [
    "cat"
   ]
  },
  {
   "cell_type": "markdown",
   "metadata": {},
   "source": [
    "Script"
   ]
  },
  {
   "cell_type": "code",
   "execution_count": null,
   "metadata": {},
   "outputs": [],
   "source": [
    "layer = 1\n",
    "attnmats=[]\n",
    "fileList = os.listdir('/scratch/bs4283/auditory_data/data/tunning_value')\n",
    "ss_path = '/scratch/bs4283/auditory_data/data/tunning_value'\n",
    "fileList.sort(key=list_sort_tunning)\n",
    "filename = fileList[layer]\n",
    "filepath = os.path.join(ss_path,filename)"
   ]
  },
  {
   "cell_type": "code",
   "execution_count": null,
   "metadata": {},
   "outputs": [],
   "source": [
    "speaker = 1\n",
    "k=value[speaker,:]/(torch.max(torch.abs(value),0).values)\n",
    "k=torch.unsqueeze(torch.unsqueeze(k,1),1)"
   ]
  },
  {
   "cell_type": "code",
   "execution_count": null,
   "metadata": {},
   "outputs": [],
   "source": [
    "k.shape"
   ]
  },
  {
   "cell_type": "code",
   "execution_count": null,
   "metadata": {},
   "outputs": [],
   "source": [
    "k[k == torch.inf] = 0 \n",
    "k[k == -torch.inf] = 0 "
   ]
  },
  {
   "cell_type": "code",
   "execution_count": null,
   "metadata": {},
   "outputs": [],
   "source": [
    "gh = torch.tile(k,[1,48,32])"
   ]
  },
  {
   "cell_type": "code",
   "execution_count": null,
   "metadata": {},
   "outputs": [],
   "source": [
    "gh.shape"
   ]
  },
  {
   "cell_type": "code",
   "execution_count": null,
   "metadata": {},
   "outputs": [],
   "source": []
  },
  {
   "cell_type": "code",
   "execution_count": null,
   "metadata": {},
   "outputs": [],
   "source": [
    "value = torch.load(filepath)"
   ]
  },
  {
   "cell_type": "code",
   "execution_count": null,
   "metadata": {},
   "outputs": [],
   "source": [
    "value.shape"
   ]
  },
  {
   "cell_type": "code",
   "execution_count": null,
   "metadata": {},
   "outputs": [],
   "source": [
    "make_amats(1,1,1,0.5)"
   ]
  },
  {
   "cell_type": "code",
   "execution_count": null,
   "metadata": {},
   "outputs": [],
   "source": [
    "model = torch.hub.load('harritaylor/torchvggish', 'vggish')\n",
    "model.postprocess = False\n",
    "model.eval()"
   ]
  },
  {
   "cell_type": "code",
   "execution_count": null,
   "metadata": {},
   "outputs": [],
   "source": []
  },
  {
   "cell_type": "code",
   "execution_count": null,
   "metadata": {},
   "outputs": [],
   "source": []
  },
  {
   "cell_type": "markdown",
   "metadata": {},
   "source": [
    "Script"
   ]
  },
  {
   "cell_type": "code",
   "execution_count": null,
   "metadata": {},
   "outputs": [],
   "source": [
    "l = torch.load('/scratch/bs4283/auditory_data/data/tunning_value/tunning_value1.pt')"
   ]
  },
  {
   "cell_type": "code",
   "execution_count": null,
   "metadata": {},
   "outputs": [],
   "source": [
    "l"
   ]
  },
  {
   "cell_type": "code",
   "execution_count": null,
   "metadata": {},
   "outputs": [],
   "source": [
    "l.shape"
   ]
  },
  {
   "cell_type": "code",
   "execution_count": null,
   "metadata": {},
   "outputs": [],
   "source": [
    "k=l[1,:]/(torch.max(torch.abs(l),0).values)"
   ]
  },
  {
   "cell_type": "code",
   "execution_count": null,
   "metadata": {},
   "outputs": [],
   "source": [
    "torch.max(torch.abs(l),0).values"
   ]
  },
  {
   "cell_type": "code",
   "execution_count": null,
   "metadata": {},
   "outputs": [],
   "source": [
    "l[1,:]"
   ]
  },
  {
   "cell_type": "code",
   "execution_count": null,
   "metadata": {},
   "outputs": [],
   "source": [
    "torch.abs(l)"
   ]
  },
  {
   "cell_type": "code",
   "execution_count": null,
   "metadata": {},
   "outputs": [],
   "source": [
    "k.shape"
   ]
  },
  {
   "cell_type": "code",
   "execution_count": null,
   "metadata": {},
   "outputs": [],
   "source": [
    "os.listdir('/scratch/bs4283/auditory_data/data/tunning_value')"
   ]
  },
  {
   "cell_type": "code",
   "execution_count": null,
   "metadata": {},
   "outputs": [],
   "source": [
    "p = '/scratch/bs4283/auditory_data/data/tunning_value/tunning_value2.pt'"
   ]
  },
  {
   "cell_type": "code",
   "execution_count": null,
   "metadata": {},
   "outputs": [],
   "source": [
    "c = 'tunning_value2.pt'"
   ]
  },
  {
   "cell_type": "code",
   "execution_count": null,
   "metadata": {},
   "outputs": [],
   "source": [
    "p.rpartition('.')"
   ]
  },
  {
   "cell_type": "code",
   "execution_count": null,
   "metadata": {},
   "outputs": [],
   "source": [
    "cv = c.rpartition('.')"
   ]
  },
  {
   "cell_type": "code",
   "execution_count": null,
   "metadata": {},
   "outputs": [],
   "source": [
    "c.rpartition('.')"
   ]
  },
  {
   "cell_type": "code",
   "execution_count": null,
   "metadata": {},
   "outputs": [],
   "source": [
    "cv[0][-1]"
   ]
  },
  {
   "cell_type": "code",
   "execution_count": null,
   "metadata": {},
   "outputs": [],
   "source": [
    "    fileList = os.listdir('/scratch/bs4283/auditory_data/data/tunning_value')\n",
    "    fileList.sort(key=list_sort_tunning)"
   ]
  },
  {
   "cell_type": "code",
   "execution_count": null,
   "metadata": {},
   "outputs": [],
   "source": [
    "fileList[]"
   ]
  },
  {
   "cell_type": "code",
   "execution_count": null,
   "metadata": {},
   "outputs": [],
   "source": [
    "amat = torch.ones([64, 96, 64])"
   ]
  },
  {
   "cell_type": "code",
   "execution_count": null,
   "metadata": {},
   "outputs": [],
   "source": [
    "amat.shape"
   ]
  },
  {
   "cell_type": "code",
   "execution_count": null,
   "metadata": {},
   "outputs": [],
   "source": [
    "attnmats=[]"
   ]
  },
  {
   "cell_type": "code",
   "execution_count": null,
   "metadata": {},
   "outputs": [],
   "source": [
    "attnmats.append(amat)"
   ]
  },
  {
   "cell_type": "code",
   "execution_count": null,
   "metadata": {},
   "outputs": [],
   "source": [
    "len(attnmats)"
   ]
  },
  {
   "cell_type": "code",
   "execution_count": null,
   "metadata": {},
   "outputs": [],
   "source": [
    "k=torch.unsqueeze(torch.unsqueeze(k,1),1)"
   ]
  },
  {
   "cell_type": "code",
   "execution_count": null,
   "metadata": {},
   "outputs": [],
   "source": [
    "k.shape"
   ]
  },
  {
   "cell_type": "code",
   "execution_count": null,
   "metadata": {},
   "outputs": [],
   "source": [
    "k[k == torch.inf] = 0 "
   ]
  },
  {
   "cell_type": "code",
   "execution_count": null,
   "metadata": {},
   "outputs": [],
   "source": [
    "k.shape"
   ]
  },
  {
   "cell_type": "code",
   "execution_count": null,
   "metadata": {},
   "outputs": [],
   "source": [
    "k=torch.unsqueeze(torch.unsqueeze(k,1),1)"
   ]
  },
  {
   "cell_type": "code",
   "execution_count": null,
   "metadata": {},
   "outputs": [],
   "source": [
    "torch.tile(k,[1,96,64]).shape"
   ]
  },
  {
   "cell_type": "code",
   "execution_count": null,
   "metadata": {},
   "outputs": [],
   "source": [
    "import torch.nn as nn\n",
    "linear2 = nn.Linear(128,1)"
   ]
  },
  {
   "cell_type": "code",
   "execution_count": null,
   "metadata": {},
   "outputs": [],
   "source": [
    "linear2.weight.shape"
   ]
  },
  {
   "cell_type": "code",
   "execution_count": null,
   "metadata": {},
   "outputs": [],
   "source": [
    "c=torch.load('/scratch/bs4283/auditory_data/data/re_train_voice/binary_weight.pt')"
   ]
  },
  {
   "cell_type": "code",
   "execution_count": null,
   "metadata": {},
   "outputs": [],
   "source": [
    "c[1,:].shape"
   ]
  },
  {
   "cell_type": "code",
   "execution_count": null,
   "metadata": {},
   "outputs": [],
   "source": [
    "linear2.weight=nn.Parameter(c[1,:])"
   ]
  },
  {
   "cell_type": "code",
   "execution_count": null,
   "metadata": {},
   "outputs": [],
   "source": [
    "linear2.weight"
   ]
  },
  {
   "cell_type": "code",
   "execution_count": null,
   "metadata": {},
   "outputs": [],
   "source": [
    "c[1,:]"
   ]
  },
  {
   "cell_type": "code",
   "execution_count": null,
   "metadata": {},
   "outputs": [],
   "source": []
  }
 ],
 "metadata": {
  "kernelspec": {
   "display_name": "my_env",
   "language": "python",
   "name": "my_env"
  },
  "language_info": {
   "codemirror_mode": {
    "name": "ipython",
    "version": 3
   },
   "file_extension": ".py",
   "mimetype": "text/x-python",
   "name": "python",
   "nbconvert_exporter": "python",
   "pygments_lexer": "ipython3",
   "version": "3.9.12"
  }
 },
 "nbformat": 4,
 "nbformat_minor": 4
}
