{
 "cells": [
  {
   "cell_type": "code",
   "execution_count": 2,
   "metadata": {},
   "outputs": [],
   "source": [
    "import numpy as np\n",
    "import torch\n",
    "import torch.nn as nn\n",
    "from torch import hub\n",
    "from script import vggish_input, vggish_params\n",
    "import os"
   ]
  },
  {
   "cell_type": "code",
   "execution_count": null,
   "metadata": {},
   "outputs": [],
   "source": [
    "import torch\n",
    "model = torch.hub.load('harritaylor/torchvggish', 'vggish')\n",
    "model.postprocess = False\n",
    "model.eval()"
   ]
  },
  {
   "cell_type": "code",
   "execution_count": null,
   "metadata": {},
   "outputs": [],
   "source": [
    "def list_sort(x : str):\n",
    "    if '.' in x:\n",
    "        # 将文件名字用_进行分割\n",
    "        x = x.rpartition('_')\n",
    "        # 将x用.进行分割，最后拿到数字\n",
    "        x = x[0][2:4]\n",
    "    else:\n",
    "        x = 0\n",
    "    return int(x)"
   ]
  },
  {
   "cell_type": "code",
   "execution_count": null,
   "metadata": {},
   "outputs": [],
   "source": [
    "device = torch.device('cpu')"
   ]
  },
  {
   "cell_type": "code",
   "execution_count": null,
   "metadata": {},
   "outputs": [],
   "source": [
    "train_data = torch.tensor([])\n",
    "ss_path = '/scratch/bs4283/auditory_data/data_20sample/training_data_20/'\n",
    "fileList = os.listdir('/scratch/bs4283/auditory_data/data_20sample/training_data_20/')\n",
    "fileList.sort(key=list_sort)\n",
    "for filename in fileList:\n",
    "    filepath = os.path.join(ss_path,filename)\n",
    "    with torch.no_grad():  \n",
    "        re = model(filepath).to(device)\n",
    "    train_data = torch.cat((train_data,re))"
   ]
  },
  {
   "cell_type": "code",
   "execution_count": null,
   "metadata": {},
   "outputs": [],
   "source": [
    "torch.save(train_data,'/scratch/bs4283/auditory_data/data_20sample/binary_training_data.pt')"
   ]
  },
  {
   "cell_type": "code",
   "execution_count": 7,
   "metadata": {},
   "outputs": [],
   "source": [
    "device = torch.device('cuda')"
   ]
  },
  {
   "cell_type": "code",
   "execution_count": 3,
   "metadata": {},
   "outputs": [],
   "source": [
    "train_data = torch.load('/scratch/bs4283/auditory_data/data_20sample/binary_training_data.pt')"
   ]
  },
  {
   "cell_type": "code",
   "execution_count": 4,
   "metadata": {},
   "outputs": [],
   "source": [
    "class LogisticRegression(nn.Module):\n",
    "    def __init__(self):\n",
    "        super(LogisticRegression,self).__init__()\n",
    "        self.linear = nn.Linear(128,1)\n",
    "        self.sigmoid = nn.Sigmoid()\n",
    "    def forward(self,x):\n",
    "        return self.sigmoid(self.linear(x))"
   ]
  },
  {
   "cell_type": "code",
   "execution_count": 5,
   "metadata": {},
   "outputs": [],
   "source": [
    "def make_train_data(data1,data2):\n",
    "    data1 = data1.numpy()\n",
    "    data2 = data2.numpy()\n",
    "    sub_diff = np.setdiff1d(data2,data1,assume_unique=True)\n",
    "    \n",
    "    r2 = torch.randperm(3800)[0:200].numpy()\n",
    "    ss = torch.from_numpy(data2[sub_diff[r2]])\n",
    "    return ss"
   ]
  },
  {
   "cell_type": "code",
   "execution_count": 15,
   "metadata": {},
   "outputs": [],
   "source": [
    "weight_binar = torch.tensor([]).to(device)\n",
    "bias_binar = torch.tensor([]).to(device)\n",
    "loss_vel_final = torch.tensor([]).to(device)\n",
    "\n",
    "loss_vel = np.zeros([9000,1])\n",
    "loss_tra = np.zeros([9000,1])\n",
    "\n",
    "\n",
    "Iter = np.zeros([20,1])\n",
    "L_tr = np.zeros([20,1])\n",
    "L_va = np.zeros([20,1])"
   ]
  },
  {
   "cell_type": "code",
   "execution_count": 16,
   "metadata": {},
   "outputs": [],
   "source": [
    "hh = 0 \n",
    "\n",
    "weight_bin = torch.tensor([]).to(device)\n",
    "bias_bin = torch.tensor([]).to(device)\n",
    "\n",
    "train_x1 = train_data[hh*200:(hh+1)*200,:]\n",
    "sub = torch.arange(4000)\n",
    "sub_cat = torch.arange(hh*200,(hh+1)*200,1)\n",
    "sub_dif = make_train_data(sub_cat,sub)        \n",
    "train_x2 = train_data[sub_dif,:]\n",
    "train_x = torch.cat((train_x1[:160,:], train_x2[:160,:]), 0)\n",
    "val_x  = torch.cat((train_x1[160:,:], train_x2[160:,:]), 0)\n",
    "y1 = torch.ones(200)\n",
    "y2 = torch.zeros(200)\n",
    "\n",
    "train_y = torch.cat((y1[:160],y2[:160]),0).to(device)\n",
    "val_y = torch.cat((y1[160:],y2[160:]),0).to(device)\n",
    "\n",
    "\n",
    "\n",
    "model_binary = LogisticRegression().to(device)\n",
    "loss_fn = nn.BCELoss()\n",
    "lr = 0.01 \n",
    "optimizer = torch.optim.Adam(model_binary.parameters(), lr=lr) \n",
    "\n",
    "for iteration in range(9000):   \n",
    "#    loss_pre  = loss_val\n",
    "    y_pred = model_binary(train_x.to(device)).to(device)             \n",
    "    loss = loss_fn(y_pred.squeeze(), train_y)   \n",
    "    loss.requires_grad_(True)\n",
    "    optimizer.zero_grad()\n",
    "    loss.backward()              \n",
    "    optimizer.step()   \n",
    "\n",
    "    y_val_pre = model_binary(val_x.to(device)).to(device)\n",
    "    loss_val = loss_fn(y_val_pre.squeeze(), val_y)\n",
    "    \n",
    "    loss_vel[iteration] = loss_val.cpu().detach().numpy()\n",
    "    loss_tra[iteration] = loss.cpu().detach().numpy()\n",
    "    \n",
    "    ww = model_binary.linear.weight.to(device)\n",
    "    bi = model_binary.linear.bias.to(device)\n",
    "    weight_bin = torch.cat((weight_bin.to(device),ww.to(device)))\n",
    "    bias_bin = torch.cat([bias_bin.to(device),bi.to(device)])"
   ]
  },
  {
   "cell_type": "code",
   "execution_count": 18,
   "metadata": {},
   "outputs": [
    {
     "data": {
      "text/plain": [
       "[<matplotlib.lines.Line2D at 0x1487fca5dd00>]"
      ]
     },
     "execution_count": 18,
     "metadata": {},
     "output_type": "execute_result"
    },
    {
     "data": {
      "image/png": "[encoded data removed]",
      "text/plain": [
       "<Figure size 640x480 with 1 Axes>"
      ]
     },
     "metadata": {},
     "output_type": "display_data"
    }
   ],
   "source": [
    "import  matplotlib.pyplot as plt\n",
    "x= np.arange(9000)\n",
    "plt.plot(x,loss_vel)\n",
    "plt.plot(x,loss_tra)"
   ]
  },
  {
   "cell_type": "code",
   "execution_count": null,
   "metadata": {},
   "outputs": [],
   "source": [
    "Iter[hh] = np.argmin(loss_vel)\n",
    "L_tr[hh] = loss_tra[np.argmin(loss_vel)]\n",
    "L_va[hh] = np.min(loss_vel)\n"
   ]
  },
  {
   "cell_type": "code",
   "execution_count": 22,
   "metadata": {},
   "outputs": [
    {
     "data": {
      "text/plain": [
       "0.31379228830337524"
      ]
     },
     "execution_count": 22,
     "metadata": {},
     "output_type": "execute_result"
    }
   ],
   "source": [
    "np.min(loss_vel)"
   ]
  },
  {
   "cell_type": "code",
   "execution_count": 24,
   "metadata": {},
   "outputs": [
    {
     "data": {
      "text/plain": [
       "array([0.31379229])"
      ]
     },
     "execution_count": 24,
     "metadata": {},
     "output_type": "execute_result"
    }
   ],
   "source": [
    "loss_vel[np.argmin(loss_vel)]"
   ]
  },
  {
   "cell_type": "code",
   "execution_count": 26,
   "metadata": {},
   "outputs": [
    {
     "data": {
      "text/plain": [
       "(128,)"
      ]
     },
     "execution_count": 26,
     "metadata": {},
     "output_type": "execute_result"
    }
   ],
   "source": [
    "weight_bin.cpu().detach().numpy()[np.argmin(loss_vel),:].shape"
   ]
  },
  {
   "cell_type": "code",
   "execution_count": null,
   "metadata": {},
   "outputs": [],
   "source": []
  },
  {
   "cell_type": "code",
   "execution_count": null,
   "metadata": {},
   "outputs": [],
   "source": [
    "weight_bin = torch.tensor([]).to(device)\n",
    "bias_bin = torch.tensor([]).to(device)\n",
    "loss_vel_final = torch.tensor([]).to(device)\n",
    "\n",
    "Iter = np.array([])\n",
    "L_tr = np.array([])\n",
    "L_va = np.array([])\n",
    "\n",
    "for hh in range(20):\n",
    "    train_x1 = train_data[hh*200:(hh+1)*200,:]\n",
    "    sub = torch.arange(4000)\n",
    "    sub_cat = torch.arange(hh*200,(hh+1)*200,1)\n",
    "    sub_dif = make_train_data(sub_cat,sub)        \n",
    "    train_x2 = train_data[sub_dif,:]\n",
    "    train_x = torch.cat((train_x1[:160,:], train_x2[:160,:]), 0)\n",
    "    val_x  = torch.cat((train_x1[160:,:], train_x2[160:,:]), 0)\n",
    "    y1 = torch.ones(200)\n",
    "    y2 = torch.zeros(200)\n",
    "    \n",
    "    train_y = torch.cat((y1[:160],y2[:160]),0).to(device)\n",
    "    val_y = torch.cat((y1[160:],y2[160:]),0).to(device)\n",
    "    \n",
    "    \n",
    "    \n",
    "    model_binary = LogisticRegression().to(device)\n",
    "    loss_fn = nn.BCELoss()\n",
    "    lr = 0.01 \n",
    "    optimizer = torch.optim.Adam(model_binary.parameters(), lr=lr) \n",
    "    \n",
    "    for iteration in range(10000):   \n",
    "        loss_pre  = loss_val\n",
    "        y_pred = model_binary(train_x.to(device)).to(device)             \n",
    "        loss = loss_fn(y_pred.squeeze(), train_y)   \n",
    "        loss.requires_grad_(True)\n",
    "        optimizer.zero_grad()\n",
    "        loss.backward()              \n",
    "        optimizer.step()   \n",
    "        \n",
    "        y_val_pre = model_binary(val_x.to(device)).to(device)\n",
    "        loss_val = loss_fn(y_val_pre.squeeze(), val_y)\n",
    "        \n",
    "        if loss_val > loss_pre and iteration>300:\n",
    "            print(iteration)\n",
    "            print(loss_val)\n",
    "            break\n",
    "\n",
    "    \n",
    "    #loss_vel_final = torch.cat((loss_vel_final.to(device),loss_val.to(device)))\n",
    "    \n",
    "    ww = model_binary.linear.weight.to(device)\n",
    "    bi = model_binary.linear.bias.to(device)\n",
    "    weight_bin = torch.cat((weight_bin.to(device),ww.to(device)))\n",
    "    bias_bin = torch.cat([bias_bin.to(device),bi.to(device)])"
   ]
  },
  {
   "cell_type": "code",
   "execution_count": null,
   "metadata": {},
   "outputs": [],
   "source": []
  },
  {
   "cell_type": "code",
   "execution_count": null,
   "metadata": {},
   "outputs": [],
   "source": [
    "hh = 0 \n",
    "train_x1 = train_data[hh*200:(hh+1)*200,:]\n",
    "sub = torch.arange(4000)\n",
    "sub_cat = torch.arange(hh*200,(hh+1)*200,1)\n",
    "sub_dif = make_train_data(sub_cat,sub)        \n",
    "train_x2 = train_data[sub_dif,:]\n",
    "train_x = torch.cat((train_x1[:160,:], train_x2[:160,:]), 0)\n",
    "val_x  = torch.cat((train_x1[160:,:], train_x2[160:,:]), 0)\n",
    "y1 = torch.ones(200)\n",
    "y2 = torch.zeros(200)\n",
    "\n",
    "train_y = torch.cat((y1[:160],y2[:160]),0).to(device)\n",
    "val_y = torch.cat((y1[160:],y2[160:]),0).to(device)\n",
    "\n",
    "Loss_t = torch.zeros([50000])\n",
    "Loss_v = torch.zeros([50000])\n",
    "\n",
    "model_binary = LogisticRegression().to(device)\n",
    "loss_fn = nn.BCELoss()\n",
    "lr = 0.01 \n",
    "optimizer = torch.optim.SGD(model_binary.parameters(), lr=lr, momentum=0.9) \n",
    "\n",
    "for iteration in range(50000):        \n",
    "    y_pred = model_binary(train_x.to(device)).to(device)             \n",
    "    loss = loss_fn(y_pred.squeeze(), train_y)   \n",
    "    loss.requires_grad_(True)\n",
    "    optimizer.zero_grad()\n",
    "    loss.backward()              \n",
    "    optimizer.step()   \n",
    "\n",
    "    y_val_pre = model_binary(val_x.to(device)).to(device)\n",
    "    loss_val = loss_fn(y_val_pre.squeeze(), val_y)\n",
    "    \n",
    "    Loss_t[iteration] = loss\n",
    "    Loss_v[iteration] = loss_val\n",
    "    \n",
    "\n",
    "#loss_vel_final = torch.cat((loss_vel_final.to(device),loss_val.to(device)))\n",
    "\n",
    "ww = model_binary.linear.weight.to(device)\n",
    "bi = model_binary.linear.bias.to(device)\n",
    "weight_bin = torch.cat((weight_bin.to(device),ww.to(device)))\n",
    "bias_bin = torch.cat([bias_bin.to(device),bi.to(device)])"
   ]
  },
  {
   "cell_type": "code",
   "execution_count": null,
   "metadata": {},
   "outputs": [],
   "source": [
    "hh = 0 \n",
    "train_x1 = train_data[hh*200:(hh+1)*200,:]\n",
    "sub = torch.arange(4000)\n",
    "sub_cat = torch.arange(hh*200,(hh+1)*200,1)\n",
    "sub_dif = make_train_data(sub_cat,sub)        \n",
    "train_x2 = train_data[sub_dif,:]\n",
    "train_x = torch.cat((train_x1[:160,:], train_x2[:160,:]), 0)\n",
    "val_x  = torch.cat((train_x1[160:,:], train_x2[160:,:]), 0)\n",
    "y1 = torch.ones(200)\n",
    "y2 = torch.zeros(200)\n",
    "\n",
    "train_y = torch.cat((y1[:160],y2[:160]),0).to(device)\n",
    "val_y = torch.cat((y1[160:],y2[160:]),0).to(device)\n",
    "\n",
    "Loss_t = torch.zeros([50000])\n",
    "Loss_v = torch.zeros([50000])\n",
    "\n",
    "model_binary = LogisticRegression().to(device)\n",
    "loss_fn = nn.BCELoss()\n",
    "lr = 0.01 \n",
    "optimizer = torch.optim.Adam(model_binary.parameters(), lr=lr) \n",
    "\n",
    "for iteration in range(50000):        \n",
    "    y_pred = model_binary(train_x.to(device)).to(device)             \n",
    "    loss = loss_fn(y_pred.squeeze(), train_y)   \n",
    "    loss.requires_grad_(True)\n",
    "    optimizer.zero_grad()\n",
    "    loss.backward()              \n",
    "    optimizer.step()   \n",
    "\n",
    "    y_val_pre = model_binary(val_x.to(device)).to(device)\n",
    "    loss_val = loss_fn(y_val_pre.squeeze(), val_y)\n",
    "    \n",
    "    Loss_t[iteration] = loss\n",
    "    Loss_v[iteration] = loss_val\n",
    "    \n",
    "\n",
    "#loss_vel_final = torch.cat((loss_vel_final.to(device),loss_val.to(device)))\n",
    "\n",
    "ww = model_binary.linear.weight.to(device)\n",
    "bi = model_binary.linear.bias.to(device)\n",
    "weight_bin = torch.cat((weight_bin.to(device),ww.to(device)))\n",
    "bias_bin = torch.cat([bias_bin.to(device),bi.to(device)])"
   ]
  },
  {
   "cell_type": "code",
   "execution_count": null,
   "metadata": {},
   "outputs": [],
   "source": [
    "import matplotlib.pyplot as plt"
   ]
  },
  {
   "cell_type": "code",
   "execution_count": null,
   "metadata": {},
   "outputs": [],
   "source": [
    "x= torch.arange(50000)\n",
    "plt.plot(x.detach().numpy(),Loss_t.detach().numpy())\n",
    "plt.plot(x.detach().numpy(),Loss_v.detach().numpy())"
   ]
  },
  {
   "cell_type": "code",
   "execution_count": null,
   "metadata": {},
   "outputs": [],
   "source": [
    "x= torch.arange(50000)\n",
    "plt.plot(x.detach().numpy(),Loss_t.detach().numpy())\n",
    "plt.plot(x.detach().numpy(),Loss_v.detach().numpy())"
   ]
  },
  {
   "cell_type": "code",
   "execution_count": null,
   "metadata": {},
   "outputs": [],
   "source": [
    "bi = model_binary.linear.bias.to(device)"
   ]
  },
  {
   "cell_type": "code",
   "execution_count": null,
   "metadata": {},
   "outputs": [],
   "source": [
    "loss_val.shape"
   ]
  },
  {
   "cell_type": "code",
   "execution_count": null,
   "metadata": {},
   "outputs": [],
   "source": [
    "val_x"
   ]
  },
  {
   "cell_type": "code",
   "execution_count": null,
   "metadata": {},
   "outputs": [],
   "source": [
    "torch.save(weight_bin,'/scratch/bs4283/auditory_data/data_20sample/binary_weight2.pt')\n",
    "torch.save(bias_bin,'/scratch/bs4283/auditory_data/data_20sample/binary_bias2.pt')"
   ]
  },
  {
   "cell_type": "code",
   "execution_count": null,
   "metadata": {},
   "outputs": [],
   "source": [
    "weight_bin.shape"
   ]
  },
  {
   "cell_type": "code",
   "execution_count": null,
   "metadata": {},
   "outputs": [],
   "source": [
    "weight_bin.shape"
   ]
  },
  {
   "cell_type": "code",
   "execution_count": null,
   "metadata": {},
   "outputs": [],
   "source": [
    "speakers = 0 # 1 - 60\n",
    "train_x1 = train_data[speakers*200:(speakers+1)*200,:]\n",
    "\n",
    "sub = torch.arange(12000)\n",
    "sub_cat = torch.arange(speakers*200,(speakers+1)*200,1)\n",
    "sub_dif = make_train_data(sub_cat,sub)\n",
    "\n",
    "train_x2 = train_data[sub_dif,:]\n",
    "train_x = torch.cat((train_x1, train_x2), 0)\n",
    "y1 = torch.ones(200)\n",
    "y2 = torch.zeros(200)\n",
    "train_y = torch.cat((y1,y2),0).to(device)"
   ]
  },
  {
   "cell_type": "code",
   "execution_count": null,
   "metadata": {},
   "outputs": [],
   "source": [
    "model_binary = LogisticRegression().to(device)\n",
    "loss_fn = nn.BCELoss()\n",
    "lr = 0.01 \n",
    "optimizer = torch.optim.SGD(model_binary.parameters(), lr=lr, momentum=0.9) \n",
    "    \n",
    "for iteration in range(1000):        \n",
    "    y_pred = model_binary(train_x.to(device)).to(device)             \n",
    "    loss = loss_fn(y_pred.squeeze(), train_y)   \n",
    "    loss.requires_grad_(True)\n",
    "    optimizer.zero_grad()\n",
    "    loss.backward()              \n",
    "    optimizer.step()"
   ]
  },
  {
   "cell_type": "code",
   "execution_count": null,
   "metadata": {},
   "outputs": [],
   "source": [
    "train_x2.shape"
   ]
  },
  {
   "cell_type": "code",
   "execution_count": null,
   "metadata": {},
   "outputs": [],
   "source": [
    "sub_cat.shape"
   ]
  },
  {
   "cell_type": "code",
   "execution_count": null,
   "metadata": {},
   "outputs": [],
   "source": [
    "train_x = torch.cat((train_x1, train_x2), 0)"
   ]
  },
  {
   "cell_type": "code",
   "execution_count": null,
   "metadata": {},
   "outputs": [],
   "source": [
    "train_x.shape"
   ]
  },
  {
   "cell_type": "code",
   "execution_count": null,
   "metadata": {},
   "outputs": [],
   "source": []
  },
  {
   "cell_type": "code",
   "execution_count": null,
   "metadata": {},
   "outputs": [],
   "source": [
    "train_data = torch.tensor([]).to(device)\n",
    "ss_path = '/scratch/bs4283/auditory_data/data/re_train_voice/training_data'\n",
    "fileList = os.listdir('/scratch/bs4283/auditory_data/data/re_train_voice/training_data')\n",
    "fileList.sort(key=list_sort)"
   ]
  },
  {
   "cell_type": "code",
   "execution_count": null,
   "metadata": {},
   "outputs": [],
   "source": [
    "fileList[3999]"
   ]
  },
  {
   "cell_type": "code",
   "execution_count": null,
   "metadata": {},
   "outputs": [],
   "source": []
  },
  {
   "cell_type": "code",
   "execution_count": null,
   "metadata": {},
   "outputs": [],
   "source": []
  },
  {
   "cell_type": "markdown",
   "metadata": {},
   "source": [
    "Extract tunning value for 20 class"
   ]
  },
  {
   "cell_type": "code",
   "execution_count": null,
   "metadata": {},
   "outputs": [],
   "source": [
    "import os \n",
    "import torch"
   ]
  },
  {
   "cell_type": "code",
   "execution_count": null,
   "metadata": {},
   "outputs": [],
   "source": [
    "def list_sort_tunning(x : str):\n",
    "    if '.' in x:\n",
    "        # 将文件名字用_进行分割\n",
    "        x = x.rpartition('.')\n",
    "        # 将x用.进行分割，最后拿到数字\n",
    "        x = x[0][-1]\n",
    "    else:\n",
    "        x = 0\n",
    "    return int(x)"
   ]
  },
  {
   "cell_type": "code",
   "execution_count": null,
   "metadata": {},
   "outputs": [],
   "source": [
    "fileList = os.listdir('/scratch/bs4283/auditory_data/data/tunning_value')\n",
    "ss_path = '/scratch/bs4283/auditory_data/data/tunning_value'\n",
    "fileList.sort(key=list_sort_tunning)"
   ]
  },
  {
   "cell_type": "code",
   "execution_count": null,
   "metadata": {},
   "outputs": [],
   "source": [
    "fileList"
   ]
  },
  {
   "cell_type": "code",
   "execution_count": null,
   "metadata": {},
   "outputs": [],
   "source": [
    "sub_list = torch.tensor([1,2,3,4,5,6,8,10,11,12,13,28,36,43,47,52,56,57,58,59])-1\n",
    "ss_new_path = '/scratch/bs4283/auditory_data/data_20sample/tunnning_value'\n",
    "for ss in range(6):\n",
    "    filename = fileList[ss]\n",
    "    filepath = os.path.join(ss_path,filename)\n",
    "    value = torch.load(filepath)\n",
    "    value_new = value[sub_list,:]\n",
    "    filepath_new = os.path.join(ss_new_path,filename)\n",
    "    torch.save(value_new,filepath_new)"
   ]
  },
  {
   "cell_type": "code",
   "execution_count": null,
   "metadata": {},
   "outputs": [],
   "source": [
    "\n",
    "filename = fileList[0]\n",
    "filepath = os.path.join(ss_path,filename)\n",
    "value = torch.load(filepath)"
   ]
  },
  {
   "cell_type": "code",
   "execution_count": null,
   "metadata": {},
   "outputs": [],
   "source": [
    "value.shape"
   ]
  },
  {
   "cell_type": "code",
   "execution_count": null,
   "metadata": {},
   "outputs": [],
   "source": [
    "sub_list = torch.tensor([1,2,3,4,5,6,8,10,11,12,13,28,36,43,47,52,56,57,58,59])-1"
   ]
  },
  {
   "cell_type": "code",
   "execution_count": null,
   "metadata": {},
   "outputs": [],
   "source": [
    "value[sub_list,:].shape"
   ]
  },
  {
   "cell_type": "code",
   "execution_count": null,
   "metadata": {},
   "outputs": [],
   "source": []
  }
 ],
 "metadata": {
  "kernelspec": {
   "display_name": "my_env",
   "language": "python",
   "name": "my_env"
  },
  "language_info": {
   "codemirror_mode": {
    "name": "ipython",
    "version": 3
   },
   "file_extension": ".py",
   "mimetype": "text/x-python",
   "name": "python",
   "nbconvert_exporter": "python",
   "pygments_lexer": "ipython3",
   "version": "3.9.12"
  }
 },
 "nbformat": 4,
 "nbformat_minor": 4
}
