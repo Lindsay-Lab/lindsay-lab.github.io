{
 "cells": [
  {
   "cell_type": "code",
   "execution_count": 1,
   "metadata": {},
   "outputs": [],
   "source": [
    "import numpy as np\n",
    "import torch\n",
    "import torch.nn as nn\n",
    "from torch import hub\n",
    "from script import vggish_input, vggish_params\n",
    "import os"
   ]
  },
  {
   "cell_type": "code",
   "execution_count": 2,
   "metadata": {},
   "outputs": [],
   "source": [
    "binary_weight = '/scratch/bs4283/auditory_data/data_20sample/binary_weight3.pt'\n",
    "binary_bias = '/scratch/bs4283/auditory_data/data_20sample/binary_bias3.pt'\n",
    "tunning_value_folder = '/scratch/bs4283/auditory_data/data_20sample/tunnning_value/new_tunning_value/normalize/'"
   ]
  },
  {
   "cell_type": "code",
   "execution_count": 3,
   "metadata": {},
   "outputs": [],
   "source": [
    "device = torch.device('cuda')"
   ]
  },
  {
   "cell_type": "code",
   "execution_count": 4,
   "metadata": {},
   "outputs": [],
   "source": [
    "def list_sort_tunning(x : str):\n",
    "    if '.' in x:\n",
    "        # 将文件名字用_进行分割\n",
    "        x = x.rpartition('.')\n",
    "        # 将x用.进行分割，最后拿到数字\n",
    "        x = x[0][-1]\n",
    "    else:\n",
    "        x = 0\n",
    "    return int(x)"
   ]
  },
  {
   "cell_type": "code",
   "execution_count": 5,
   "metadata": {},
   "outputs": [],
   "source": [
    "attnmats=[]\n",
    "fileList = os.listdir('/scratch/bs4283/auditory_data/data_20sample/tunnning_value/new_tunning_value/normalize')\n",
    "ss_path = '/scratch/bs4283/auditory_data/data_20sample/tunnning_value/new_tunning_value/normalize'\n",
    "fileList.sort(key=list_sort_tunning)\n",
    "\n"
   ]
  },
  {
   "cell_type": "code",
   "execution_count": null,
   "metadata": {},
   "outputs": [],
   "source": [
    "filename = fileList[0]\n",
    "filepath = os.path.join(ss_path,filename)\n",
    "value = torch.load(filepath)"
   ]
  },
  {
   "cell_type": "code",
   "execution_count": 7,
   "metadata": {},
   "outputs": [],
   "source": [
    "import matplotlib.pyplot as plt"
   ]
  },
  {
   "cell_type": "code",
   "execution_count": null,
   "metadata": {},
   "outputs": [],
   "source": [
    "value.cpu().numpy().shape"
   ]
  },
  {
   "cell_type": "code",
   "execution_count": 6,
   "metadata": {},
   "outputs": [],
   "source": [
    "v_qul = []\n",
    "for layer in range(6):\n",
    "    filename = fileList[layer]\n",
    "    filepath = os.path.join(ss_path,filename)\n",
    "    value = torch.load(filepath)\n",
    "    value = value.cpu().detach().numpy()\n",
    "    max_v = np.amax(np.abs(value),axis=0)\n",
    "    v_qul.append(max_v)"
   ]
  },
  {
   "cell_type": "code",
   "execution_count": null,
   "metadata": {},
   "outputs": [],
   "source": [
    "v_qul"
   ]
  },
  {
   "cell_type": "code",
   "execution_count": 8,
   "metadata": {},
   "outputs": [
    {
     "data": {
      "text/plain": [
       "{'whiskers': [<matplotlib.lines.Line2D at 0x1463e8325610>,\n",
       "  <matplotlib.lines.Line2D at 0x1463e83258b0>,\n",
       "  <matplotlib.lines.Line2D at 0x1463e83428e0>,\n",
       "  <matplotlib.lines.Line2D at 0x1463e8342b80>,\n",
       "  <matplotlib.lines.Line2D at 0x1463e82d1b80>,\n",
       "  <matplotlib.lines.Line2D at 0x1463e82d1e20>,\n",
       "  <matplotlib.lines.Line2D at 0x1463e82dfe20>,\n",
       "  <matplotlib.lines.Line2D at 0x1463e82eb100>,\n",
       "  <matplotlib.lines.Line2D at 0x1463e82f7100>,\n",
       "  <matplotlib.lines.Line2D at 0x1463e82f73a0>,\n",
       "  <matplotlib.lines.Line2D at 0x1463e83043a0>,\n",
       "  <matplotlib.lines.Line2D at 0x1463e8304640>],\n",
       " 'caps': [<matplotlib.lines.Line2D at 0x1463e8325b50>,\n",
       "  <matplotlib.lines.Line2D at 0x1463e8325df0>,\n",
       "  <matplotlib.lines.Line2D at 0x1463e8342e20>,\n",
       "  <matplotlib.lines.Line2D at 0x1463e82d1100>,\n",
       "  <matplotlib.lines.Line2D at 0x1463e82df100>,\n",
       "  <matplotlib.lines.Line2D at 0x1463e82df3a0>,\n",
       "  <matplotlib.lines.Line2D at 0x1463e82eb3a0>,\n",
       "  <matplotlib.lines.Line2D at 0x1463e82eb640>,\n",
       "  <matplotlib.lines.Line2D at 0x1463e82f7640>,\n",
       "  <matplotlib.lines.Line2D at 0x1463e82f78e0>,\n",
       "  <matplotlib.lines.Line2D at 0x1463e83048e0>,\n",
       "  <matplotlib.lines.Line2D at 0x1463e8304b80>],\n",
       " 'boxes': [<matplotlib.lines.Line2D at 0x1463e8311250>,\n",
       "  <matplotlib.lines.Line2D at 0x1463e8342640>,\n",
       "  <matplotlib.lines.Line2D at 0x1463e82d18e0>,\n",
       "  <matplotlib.lines.Line2D at 0x1463e82dfb80>,\n",
       "  <matplotlib.lines.Line2D at 0x1463e82ebe20>,\n",
       "  <matplotlib.lines.Line2D at 0x1463e8304100>],\n",
       " 'medians': [<matplotlib.lines.Line2D at 0x1463e83420d0>,\n",
       "  <matplotlib.lines.Line2D at 0x1463e82d13a0>,\n",
       "  <matplotlib.lines.Line2D at 0x1463e82df640>,\n",
       "  <matplotlib.lines.Line2D at 0x1463e82eb8e0>,\n",
       "  <matplotlib.lines.Line2D at 0x1463e82f7b80>,\n",
       "  <matplotlib.lines.Line2D at 0x1463e8304e20>],\n",
       " 'fliers': [<matplotlib.lines.Line2D at 0x1463e8342370>,\n",
       "  <matplotlib.lines.Line2D at 0x1463e82d1640>,\n",
       "  <matplotlib.lines.Line2D at 0x1463e82df8e0>,\n",
       "  <matplotlib.lines.Line2D at 0x1463e82ebb80>,\n",
       "  <matplotlib.lines.Line2D at 0x1463e82f7e20>,\n",
       "  <matplotlib.lines.Line2D at 0x1463e8299100>],\n",
       " 'means': []}"
      ]
     },
     "execution_count": 8,
     "metadata": {},
     "output_type": "execute_result"
    },
    {
     "data": {
      "image/png": "[encoded data removed]",
      "text/plain": [
       "<Figure size 640x480 with 1 Axes>"
      ]
     },
     "metadata": {},
     "output_type": "display_data"
    }
   ],
   "source": [
    "plt.boxplot(v_qul)"
   ]
  },
  {
   "cell_type": "code",
   "execution_count": null,
   "metadata": {},
   "outputs": [],
   "source": [
    "def make_amats(speaker,layer,sevec):\n",
    "    attnmats=[]\n",
    "    fileList = os.listdir('/scratch/bs4283/auditory_data/data_20sample/tunnning_value')\n",
    "    ss_path = '/scratch/bs4283/auditory_data/data_20sample/tunnning_value'\n",
    "    fileList.sort(key=list_sort_tunning)\n",
    "    filename = fileList[layer]\n",
    "    filepath = os.path.join(ss_path,filename)\n",
    "    value = torch.load(filepath)\n",
    "    \n",
    "    for ii in range(6):\n",
    "        if ii == layer : \n",
    "            k=value[speaker,:]/(torch.max(torch.abs(value),0).values)\n",
    "            k=torch.unsqueeze(torch.unsqueeze(k,1),1)\n",
    "            k[k == torch.inf] = 0 \n",
    "            k[k == -torch.inf] = 0 \n",
    "            k = torch.from_numpy(np.nan_to_num(k.cpu().numpy())).to(device)\n",
    "            \n",
    "            if ii == 0:\n",
    "                amat = torch.ones([64, 96, 64]).to(device) + torch.tile(k,[1,96,64]).to(device) *sevec\n",
    "                attnmats.append(amat)\n",
    "            elif ii == 1:\n",
    "                amat = torch.ones([128, 48, 32]).to(device)  + torch.tile(k,[1,48,32]).to(device) *sevec\n",
    "                attnmats.append(amat)\n",
    "            elif ii == 2:\n",
    "                amat = torch.ones([256, 24, 16]).to(device)  + torch.tile(k,[1,24,16]).to(device) *sevec\n",
    "                attnmats.append(amat)\n",
    "            elif ii == 3:\n",
    "                amat = torch.ones([256, 24, 16]).to(device)  + torch.tile(k,[1,24,16]).to(device) *sevec\n",
    "                attnmats.append(amat)\n",
    "            elif ii == 4:\n",
    "                amat = torch.ones([512, 12, 8]).to(device)  + torch.tile(k,[1,12,8]).to(device) *sevec\n",
    "                attnmats.append(amat)\n",
    "            elif ii == 5:\n",
    "                amat = torch.ones([512, 12, 8]).to(device)  + torch.tile(k,[1,12,8]).to(device) *sevec\n",
    "                attnmats.append(amat)\n",
    "            \n",
    "            \n",
    "        else:\n",
    "            if ii == 0:\n",
    "                amat = torch.ones([64, 96, 64]).to(device) \n",
    "                attnmats.append(amat)\n",
    "            elif ii == 1:\n",
    "                amat = torch.ones([128, 48, 32]).to(device) \n",
    "                attnmats.append(amat)\n",
    "            elif ii == 2:\n",
    "                amat = torch.ones([256, 24, 16]).to(device) \n",
    "                attnmats.append(amat)\n",
    "            elif ii == 3:\n",
    "                amat = torch.ones([256, 24, 16]).to(device) \n",
    "                attnmats.append(amat)\n",
    "            elif ii == 4:\n",
    "                amat = torch.ones([512, 12, 8]).to(device) \n",
    "                attnmats.append(amat)\n",
    "            elif ii == 5:\n",
    "                amat = torch.ones([512, 12, 8]).to(device) \n",
    "                attnmats.append(amat)\n",
    "    return attnmats"
   ]
  },
  {
   "cell_type": "code",
   "execution_count": null,
   "metadata": {},
   "outputs": [],
   "source": [
    "class VGG16ish(nn.Module):\n",
    "    def __init__(self,binary_weight,binary_bias,tunning):\n",
    "        super(VGG16ish, self).__init__()\n",
    "        import torch\n",
    "        import torch.nn as nn\n",
    "        self.tunning = tunning\n",
    "        self.binary_weight = binary_weight.to(device)\n",
    "        self.binary_bias = binary_bias.to(device)\n",
    "        base_model = torch.hub.load('harritaylor/torchvggish', 'vggish')\n",
    "        model_list = list(base_model.children())\n",
    "        self.model_layer0 = model_list[0][0:2]\n",
    "        self.model_layer1 = model_list[0][2:5]\n",
    "        self.model_layer2 = model_list[0][5:8]\n",
    "        self.model_layer3 = model_list[0][8:10]\n",
    "        self.model_layer4 = model_list[0][10:13]\n",
    "        self.model_layer5 = model_list[0][13:15]\n",
    "        self.model_layer6 = model_list[0][15] \n",
    "        self.linear1 = model_list[1]\n",
    "        self.linear2 = nn.Linear(128,1)\n",
    "        self.linear2.weight = nn.Parameter(self.binary_weight)\n",
    "        self.linear2.bias = nn.Parameter(self.binary_bias)\n",
    "        self.sigmoid = nn.Sigmoid()\n",
    "        \n",
    "        \n",
    "        \n",
    "    def forward(self, x):\n",
    "        out = self.model_layer0(x)\n",
    "        out = torch.mul(out,self.tunning[0])\n",
    "        out = self.model_layer1(out)\n",
    "        out = torch.mul(out,self.tunning[1])\n",
    "        out = self.model_layer2(out)\n",
    "        out = torch.mul(out,self.tunning[2])\n",
    "        out = self.model_layer3(out)\n",
    "        out = torch.mul(out,self.tunning[3])\n",
    "        out = self.model_layer4(out)\n",
    "        out = torch.mul(out,self.tunning[4])\n",
    "        out = self.model_layer5(out)\n",
    "        out = torch.mul(out,self.tunning[5])\n",
    "        out = self.model_layer6(out)\n",
    "        out = torch.transpose(out, 1, 3)\n",
    "        out = torch.transpose(out, 1, 2)\n",
    "        out = out.contiguous().view(x.size(0), -1)\n",
    "        \n",
    "        out = self.linear1(out)\n",
    "        out = self.linear2(out)\n",
    "        out = self.sigmoid(out)\n",
    "        \n",
    "        \n",
    "        return out"
   ]
  },
  {
   "cell_type": "markdown",
   "metadata": {},
   "source": [
    "Prepare data"
   ]
  },
  {
   "cell_type": "code",
   "execution_count": null,
   "metadata": {},
   "outputs": [],
   "source": [
    "from script import vggish_input"
   ]
  },
  {
   "cell_type": "code",
   "execution_count": null,
   "metadata": {},
   "outputs": [],
   "source": [
    "def list_sort_data(x : str):\n",
    "    if '.' in x:\n",
    "        # 将文件名字用_进行分割\n",
    "        x = x.rpartition('.')\n",
    "        # 将x用.进行分割，最后拿到数字\n",
    "        if x[0][1] == '-':      \n",
    "            x = x[0][0]\n",
    "        else:\n",
    "            x=x[0][0:2]\n",
    "    else:\n",
    "        x = 0\n",
    "    return int(x)"
   ]
  },
  {
   "cell_type": "code",
   "execution_count": null,
   "metadata": {},
   "outputs": [],
   "source": [
    "# cat = 2\n",
    "#layer = 5 \n",
    "astrgs=np.arange(0,1.,.5)\n",
    "data_num = 75\n",
    "data_folder = '/scratch/bs4283/auditory_data/data_20sample/test_voice_20'\n"
   ]
  },
  {
   "cell_type": "code",
   "execution_count": null,
   "metadata": {},
   "outputs": [],
   "source": [
    "cat = 0\n",
    "fileList_data = os.listdir('/scratch/bs4283/auditory_data/data_20sample/combine_test_20')\n",
    "fileList_data.sort(key=list_sort_data)\n",
    "sub = torch.arange(9000)\n",
    "sub = sub.numpy()\n",
    "sub_cat = torch.arange(cat*150,(cat+1)*150,1)\n",
    "sub_cat = sub_cat.numpy()\n",
    "sub_diff = np.setdiff1d(sub,sub_cat)\n",
    "r1 = torch.randperm(150)\n",
    "r2 = torch.randperm(8850)\n",
    "data_poi = np.array(fileList_data)[sub_cat[r1.numpy()]]\n",
    "data_neg = np.array(fileList_data)[sub_diff[r2.numpy()]]\n",
    "poi_data = torch.tensor([]).to(device)\n",
    "neg_data = torch.tensor([]).to(device)"
   ]
  },
  {
   "cell_type": "code",
   "execution_count": null,
   "metadata": {},
   "outputs": [],
   "source": [
    "for kk in range(data_num):\n",
    "    poi_path = os.path.join(data_folder,data_poi[kk])\n",
    "    p = vggish_input.wavfile_to_examples(poi_path).to(device)\n",
    "    poi_data = torch.cat([poi_data,p])\n",
    "\n",
    "\n",
    "orde = -1\n",
    "while neg_data.size(dim=0) < 75:\n",
    "    orde = orde + 1 \n",
    "    filename = data_neg[orde].rpartition('.')\n",
    "    if int(filename[0][3:5]) == cat+1:\n",
    "           continue\n",
    "    neg_path = os.path.join(data_folder,data_neg[orde])\n",
    "    n = vggish_input.wavfile_to_examples(neg_path).to(device)\n",
    "    neg_data = torch.cat([neg_data,n])"
   ]
  },
  {
   "cell_type": "code",
   "execution_count": null,
   "metadata": {},
   "outputs": [],
   "source": [
    "w = torch.load(binary_weight)\n",
    "bin_b = torch.load(binary_bias)[cat]\n",
    "bin_w = w[cat,:]\n",
    "bin_w = torch.unsqueeze(bin_w,0)"
   ]
  },
  {
   "cell_type": "code",
   "execution_count": null,
   "metadata": {},
   "outputs": [],
   "source": [
    "pr = np.ones([2,6])\n",
    "nr = np.ones([2,6])\n",
    "for jj in range(6):\n",
    "    at = -1\n",
    "    for ast in astrgs:\n",
    "        at = at+1\n",
    "        t = make_amats(cat,jj,ast)\n",
    "        model_v = VGG16ish(binary_weight = bin_w,binary_bias = bin_b ,tunning = t)            \n",
    "        model_v.eval()\n",
    "        p_result = model_v(poi_data)\n",
    "        n_result  = model_v(neg_data)\n",
    "        p_rate = torch.sum(p_result>0.5).cpu().numpy()/75\n",
    "        n_rate = torch.sum(n_result<0.5).cpu().numpy()/75\n",
    "        pr[at,jj] = p_rate\n",
    "        nr[at,jj] = n_rate"
   ]
  },
  {
   "cell_type": "code",
   "execution_count": null,
   "metadata": {},
   "outputs": [],
   "source": []
  },
  {
   "cell_type": "code",
   "execution_count": null,
   "metadata": {},
   "outputs": [],
   "source": []
  },
  {
   "cell_type": "code",
   "execution_count": null,
   "metadata": {},
   "outputs": [],
   "source": [
    "str(sub_list[0].numpy())"
   ]
  },
  {
   "cell_type": "code",
   "execution_count": null,
   "metadata": {},
   "outputs": [],
   "source": [
    "sub_list = torch.tensor([1,2,3,4,5,6,8,10,11,12,13,28,36,43,47,52,56,57,58,59])-1\n",
    "cat_s = -1 \n",
    "for cat in sub_list:\n",
    "    cat_s = cat_s + 1 \n",
    "    fileList_data = os.listdir('/scratch/bs4283/auditory_data/data_20sample/combine_test_20')\n",
    "    fileList_data.sort(key=list_sort_data)\n",
    "    sub = torch.arange(3000)\n",
    "    sub = sub.numpy()\n",
    "    sub_cat = torch.arange(cat_s*150,(cat_s+1)*150,1)\n",
    "    sub_cat = sub_cat.numpy()\n",
    "    sub_diff = np.setdiff1d(sub,sub_cat)\n",
    "    r1 = torch.randperm(150)\n",
    "    r2 = torch.randperm(2850)\n",
    "    data_poi = np.array(fileList_data)[sub_cat[r1.numpy()]]\n",
    "    data_neg = np.array(fileList_data)[sub_diff[r2.numpy()]]\n",
    "    poi_data = torch.tensor([]).to(device)\n",
    "    neg_data = torch.tensor([]).to(device)\n",
    "    \n",
    "    for kk in range(data_num):\n",
    "        poi_path = os.path.join(data_folder,data_poi[kk])\n",
    "        p = vggish_input.wavfile_to_examples(poi_path).to(device)\n",
    "        poi_data = torch.cat([poi_data,p])\n",
    "\n",
    "\n",
    "    orde = -1\n",
    "    while neg_data.size(dim=0) < 75:\n",
    "        orde = orde + 1 \n",
    "        filename = data_neg[orde].rpartition('.')\n",
    "        if int(filename[0][3:5]) == cat+1:\n",
    "               continue\n",
    "        neg_path = os.path.join(data_folder,data_neg[orde])\n",
    "        n = vggish_input.wavfile_to_examples(neg_path).to(device)\n",
    "        neg_data = torch.cat([neg_data,n])\n",
    "        \n",
    "        \n",
    "    w = torch.load(binary_weight)\n",
    "    bin_b = torch.load(binary_bias)[cat_s]\n",
    "    bin_w = w[cat_s,:]\n",
    "    bin_w = torch.unsqueeze(bin_w,0)\n",
    "    \n",
    "    pr = np.ones([2,6])\n",
    "    nr = np.ones([2,6])\n",
    "    for jj in range(6):\n",
    "        at = -1\n",
    "        for ast in astrgs:\n",
    "            at = at+1\n",
    "            t = make_amats(cat_s,jj,ast)\n",
    "            model_v = VGG16ish(binary_weight = bin_w,binary_bias = bin_b ,tunning = t)            \n",
    "            model_v.eval()\n",
    "            p_result = model_v(poi_data)\n",
    "            n_result  = model_v(neg_data)\n",
    "            p_rate = torch.sum(p_result>0.5).cpu().numpy()/75\n",
    "            n_rate = torch.sum(n_result<0.5).cpu().numpy()/75\n",
    "            pr[at,jj] = p_rate\n",
    "            nr[at,jj] = n_rate\n",
    "    np.save('/scratch/bs4283/auditory_data/data_20sample/result2/cat'+ str(cat.numpy()) + '_poi.npy',pr)\n",
    "    np.save('/scratch/bs4283/auditory_data/data_20sample/result2/cat'+ str(cat.numpy()) + '_neg.npy',nr)            "
   ]
  },
  {
   "cell_type": "markdown",
   "metadata": {},
   "source": [
    "Prepare data for raw test data"
   ]
  },
  {
   "cell_type": "code",
   "execution_count": null,
   "metadata": {},
   "outputs": [],
   "source": [
    "def list_sort_data(x : str):\n",
    "    if '.' in x:\n",
    "\n",
    "        x = x.rpartition('.')\n",
    "\n",
    "        if x[0][1] == '-':      \n",
    "            x = x[0][0]\n",
    "        else:\n",
    "            x=x[0][2:4]\n",
    "    else:\n",
    "        x = 0\n",
    "    return int(x)"
   ]
  },
  {
   "cell_type": "code",
   "execution_count": null,
   "metadata": {},
   "outputs": [],
   "source": [
    "sub_list = torch.tensor([1,2,3,4,5,6,8,10,11,12,13,28,36,43,47,52,56,57,58,59])-1\n",
    "cat_s = -1 \n",
    "for cat in sub_list:\n",
    "    cat_s = cat_s + 1 \n",
    "    fileList_data = os.listdir('/scratch/bs4283/auditory_data/data_20sample/test_voice_20')\n",
    "    fileList_data.sort(key=list_sort_data)\n",
    "    sub = torch.arange(3000)\n",
    "    sub = sub.numpy()\n",
    "    sub_cat = torch.arange(cat_s*150,(cat_s+1)*150,1)\n",
    "    sub_cat = sub_cat.numpy()\n",
    "    sub_diff = np.setdiff1d(sub,sub_cat)\n",
    "    r1 = torch.randperm(150)\n",
    "    r2 = torch.randperm(2850)\n",
    "    data_poi = np.array(fileList_data)[sub_cat[r1.numpy()]]\n",
    "    data_neg = np.array(fileList_data)[sub_diff[r2.numpy()]]\n",
    "    poi_data = torch.tensor([]).to(device)\n",
    "    neg_data = torch.tensor([]).to(device)\n",
    "    \n",
    "    for kk in range(data_num):\n",
    "        poi_path = os.path.join(data_folder,data_poi[kk])\n",
    "        p = vggish_input.wavfile_to_examples(poi_path).to(device)\n",
    "        poi_data = torch.cat([poi_data,p])\n",
    "\n",
    "\n",
    "    orde = -1\n",
    "    while neg_data.size(dim=0) < 75:\n",
    "        orde = orde + 1 \n",
    "        filename = data_neg[orde].rpartition('.')\n",
    " #       if int(filename[0][3:5]) == cat+1:\n",
    " #             continue\n",
    "        neg_path = os.path.join(data_folder,data_neg[orde])\n",
    "        n = vggish_input.wavfile_to_examples(neg_path).to(device)\n",
    "        neg_data = torch.cat([neg_data,n])\n",
    "        \n",
    "        \n",
    "    w = torch.load(binary_weight)\n",
    "    bin_b = torch.load(binary_bias)[cat_s]\n",
    "    bin_w = w[cat_s,:]\n",
    "    bin_w = torch.unsqueeze(bin_w,0)\n",
    "    \n",
    "    pr = np.ones([2,6])\n",
    "    nr = np.ones([2,6])\n",
    "    for jj in range(6):\n",
    "        at = -1\n",
    "        for ast in astrgs:\n",
    "            at = at+1\n",
    "            t = make_amats(cat_s,jj,ast)\n",
    "            model_v = VGG16ish(binary_weight = bin_w,binary_bias = bin_b ,tunning = t)            \n",
    "            model_v.eval()\n",
    "            p_result = model_v(poi_data)\n",
    "            n_result  = model_v(neg_data)\n",
    "            p_rate = torch.sum(p_result>0.5).cpu().numpy()/75\n",
    "            n_rate = torch.sum(n_result<0.5).cpu().numpy()/75\n",
    "            pr[at,jj] = p_rate\n",
    "            nr[at,jj] = n_rate\n",
    "    np.save('/scratch/bs4283/auditory_data/data_20sample/result_raw_data/cat'+ str(cat.numpy()) + '_poi.npy',pr)\n",
    "    np.save('/scratch/bs4283/auditory_data/data_20sample/result_raw_data/cat'+ str(cat.numpy()) + '_neg.npy',nr)            "
   ]
  }
 ],
 "metadata": {
  "kernelspec": {
   "display_name": "my_env",
   "language": "python",
   "name": "my_env"
  },
  "language_info": {
   "codemirror_mode": {
    "name": "ipython",
    "version": 3
   },
   "file_extension": ".py",
   "mimetype": "text/x-python",
   "name": "python",
   "nbconvert_exporter": "python",
   "pygments_lexer": "ipython3",
   "version": "3.9.12"
  }
 },
 "nbformat": 4,
 "nbformat_minor": 4
}
